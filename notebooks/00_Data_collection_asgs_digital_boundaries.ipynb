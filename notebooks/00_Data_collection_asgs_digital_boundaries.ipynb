{
 "cells": [
  {
   "cell_type": "code",
   "execution_count": 10,
   "id": "welcome-assurance",
   "metadata": {},
   "outputs": [],
   "source": [
    "import requests\n",
    "import pandas as pd\n",
    "import geopandas as gpd\n",
    "import zipfile"
   ]
  },
  {
   "cell_type": "code",
   "execution_count": 3,
   "id": "accurate-wildlife",
   "metadata": {},
   "outputs": [],
   "source": [
    "def download_file(url, save_file):\n",
    "    # Download and save a file from the url\n",
    "    with open(save_file, 'wb') as f:\n",
    "        r = requests.get(url)\n",
    "        f.write(r.content)  "
   ]
  },
  {
   "cell_type": "code",
   "execution_count": null,
   "id": "successful-hartford",
   "metadata": {},
   "outputs": [],
   "source": []
  },
  {
   "cell_type": "markdown",
   "id": "saving-karen",
   "metadata": {},
   "source": [
    "### Volume 3 - Non ABS Structures\n",
    "Source https://www.abs.gov.au/AUSSTATS/abs@.nsf/DetailsPage/1270.0.55.003June%202020?OpenDocument"
   ]
  },
  {
   "cell_type": "markdown",
   "id": "stainless-solid",
   "metadata": {},
   "source": [
    "##### Local Government Areas ASGS Ed 2020 Digital Boundaries in ESRI Shapefile Format "
   ]
  },
  {
   "cell_type": "code",
   "execution_count": 4,
   "id": "enhanced-state",
   "metadata": {},
   "outputs": [],
   "source": [
    "url = \"https://www.abs.gov.au/ausstats/subscriber.nsf/log?openagent&1270055003_lga_2020_aust_shp.zip&1270.0.55.003&Data%20Cubes&D18F1308CA028E03CA258588001CC896&0&June%202020&16.06.2020&Latest\"\n",
    "save_to = \"../data/raw/lga_2020_aust_shp.zip\"\n",
    "download_file(url,save_to)"
   ]
  },
  {
   "cell_type": "code",
   "execution_count": 9,
   "id": "literary-equipment",
   "metadata": {},
   "outputs": [
    {
     "name": "stdout",
     "output_type": "stream",
     "text": [
      "File Name                                             Modified             Size\n",
      "LGA_2020_AUST.dbf                              2020-05-26 12:26:24        77750\n",
      "LGA_2020_AUST.prj                              2020-05-26 12:26:24          145\n",
      "LGA_2020_AUST.shp                              2020-05-26 12:26:24     55635912\n",
      "LGA_2020_AUST.shx                              2020-05-26 12:26:24         4596\n",
      "LGA_2020_AUST.xml                              2020-05-25 09:00:28        39277\n"
     ]
    }
   ],
   "source": [
    "# Open the zip file, and check the csv files inside\n",
    "z = zipfile.ZipFile(save_to)\n",
    "z.printdir()"
   ]
  },
  {
   "cell_type": "code",
   "execution_count": 14,
   "id": "legendary-portsmouth",
   "metadata": {},
   "outputs": [
    {
     "data": {
      "text/plain": [
       "(562, 6)"
      ]
     },
     "execution_count": 14,
     "metadata": {},
     "output_type": "execute_result"
    }
   ],
   "source": [
    "gdf = gpd.read_file(\"zip://../data/raw/lga_2020_aust_shp.zip\")\n",
    "gdf.shape"
   ]
  },
  {
   "cell_type": "code",
   "execution_count": 15,
   "id": "becoming-collective",
   "metadata": {},
   "outputs": [
    {
     "data": {
      "text/html": [
       "<div>\n",
       "<style scoped>\n",
       "    .dataframe tbody tr th:only-of-type {\n",
       "        vertical-align: middle;\n",
       "    }\n",
       "\n",
       "    .dataframe tbody tr th {\n",
       "        vertical-align: top;\n",
       "    }\n",
       "\n",
       "    .dataframe thead th {\n",
       "        text-align: right;\n",
       "    }\n",
       "</style>\n",
       "<table border=\"1\" class=\"dataframe\">\n",
       "  <thead>\n",
       "    <tr style=\"text-align: right;\">\n",
       "      <th></th>\n",
       "      <th>LGA_CODE20</th>\n",
       "      <th>LGA_NAME20</th>\n",
       "      <th>STE_CODE16</th>\n",
       "      <th>STE_NAME16</th>\n",
       "      <th>AREASQKM20</th>\n",
       "      <th>geometry</th>\n",
       "    </tr>\n",
       "  </thead>\n",
       "  <tbody>\n",
       "    <tr>\n",
       "      <th>0</th>\n",
       "      <td>10050</td>\n",
       "      <td>Albury (C)</td>\n",
       "      <td>1</td>\n",
       "      <td>New South Wales</td>\n",
       "      <td>305.9459</td>\n",
       "      <td>POLYGON ((146.82130 -36.04997, 146.82138 -36.0...</td>\n",
       "    </tr>\n",
       "    <tr>\n",
       "      <th>1</th>\n",
       "      <td>10180</td>\n",
       "      <td>Armidale Regional (A)</td>\n",
       "      <td>1</td>\n",
       "      <td>New South Wales</td>\n",
       "      <td>7809.4405</td>\n",
       "      <td>POLYGON ((151.32425 -30.26923, 151.32419 -30.2...</td>\n",
       "    </tr>\n",
       "    <tr>\n",
       "      <th>2</th>\n",
       "      <td>10250</td>\n",
       "      <td>Ballina (A)</td>\n",
       "      <td>1</td>\n",
       "      <td>New South Wales</td>\n",
       "      <td>484.9389</td>\n",
       "      <td>MULTIPOLYGON (((153.57094 -28.87390, 153.57097...</td>\n",
       "    </tr>\n",
       "    <tr>\n",
       "      <th>3</th>\n",
       "      <td>10300</td>\n",
       "      <td>Balranald (A)</td>\n",
       "      <td>1</td>\n",
       "      <td>New South Wales</td>\n",
       "      <td>21690.6753</td>\n",
       "      <td>POLYGON ((143.00432 -33.78165, 143.01538 -33.7...</td>\n",
       "    </tr>\n",
       "    <tr>\n",
       "      <th>4</th>\n",
       "      <td>10470</td>\n",
       "      <td>Bathurst Regional (A)</td>\n",
       "      <td>1</td>\n",
       "      <td>New South Wales</td>\n",
       "      <td>3817.8646</td>\n",
       "      <td>POLYGON ((149.90753 -33.39968, 149.90717 -33.4...</td>\n",
       "    </tr>\n",
       "  </tbody>\n",
       "</table>\n",
       "</div>"
      ],
      "text/plain": [
       "  LGA_CODE20             LGA_NAME20 STE_CODE16       STE_NAME16  AREASQKM20  \\\n",
       "0      10050             Albury (C)          1  New South Wales    305.9459   \n",
       "1      10180  Armidale Regional (A)          1  New South Wales   7809.4405   \n",
       "2      10250            Ballina (A)          1  New South Wales    484.9389   \n",
       "3      10300          Balranald (A)          1  New South Wales  21690.6753   \n",
       "4      10470  Bathurst Regional (A)          1  New South Wales   3817.8646   \n",
       "\n",
       "                                            geometry  \n",
       "0  POLYGON ((146.82130 -36.04997, 146.82138 -36.0...  \n",
       "1  POLYGON ((151.32425 -30.26923, 151.32419 -30.2...  \n",
       "2  MULTIPOLYGON (((153.57094 -28.87390, 153.57097...  \n",
       "3  POLYGON ((143.00432 -33.78165, 143.01538 -33.7...  \n",
       "4  POLYGON ((149.90753 -33.39968, 149.90717 -33.4...  "
      ]
     },
     "execution_count": 15,
     "metadata": {},
     "output_type": "execute_result"
    }
   ],
   "source": [
    "gdf.head()"
   ]
  },
  {
   "cell_type": "code",
   "execution_count": 16,
   "id": "satellite-tongue",
   "metadata": {},
   "outputs": [
    {
     "data": {
      "text/plain": [
       "<AxesSubplot:>"
      ]
     },
     "execution_count": 16,
     "metadata": {},
     "output_type": "execute_result"
    },
    {
     "data": {
      "image/png": "[encoded data removed]",
      "text/plain": [
       "<Figure size 432x288 with 1 Axes>"
      ]
     },
     "metadata": {
      "needs_background": "light"
     },
     "output_type": "display_data"
    }
   ],
   "source": [
    "gdf.plot()"
   ]
  },
  {
   "cell_type": "markdown",
   "id": "limiting-illustration",
   "metadata": {},
   "source": [
    "##### Non ABS Structures ASGS Ed 2020 Digital Boundaries in Geopackage "
   ]
  },
  {
   "cell_type": "code",
   "execution_count": 5,
   "id": "sonic-monkey",
   "metadata": {},
   "outputs": [],
   "source": [
    "url = \"https://www.abs.gov.au/ausstats/subscriber.nsf/log?openagent&1270055003_asgs_2020_vol_3_aust_gpkg.zip&1270.0.55.003&Data%20Cubes&C39FF587B7A8F1B9CA258588001CCFA2&0&June%202020&16.06.2020&Latest\"\n",
    "save_to = \"../data/raw/asgs_2020_vol_3_aust_gpkg.zip\"\n",
    "download_file(url,save_to)"
   ]
  },
  {
   "cell_type": "code",
   "execution_count": 17,
   "id": "limiting-judge",
   "metadata": {},
   "outputs": [
    {
     "name": "stdout",
     "output_type": "stream",
     "text": [
      "File Name                                             Modified             Size\n",
      "ASGS 2016 Volume 3 2020.gpkg                   2020-05-27 10:03:52    105766912\n",
      "LGA_2020_AUST.xml                              2020-05-25 09:00:28        39277\n",
      "SED_2020_AUST.xml                              2020-05-29 09:27:44        38227\n"
     ]
    }
   ],
   "source": [
    "# Open the zip file, and check the csv files inside\n",
    "z = zipfile.ZipFile(save_to)\n",
    "z.printdir()"
   ]
  },
  {
   "cell_type": "code",
   "execution_count": 20,
   "id": "related-pipeline",
   "metadata": {},
   "outputs": [
    {
     "name": "stderr",
     "output_type": "stream",
     "text": [
      "/home/danph/anaconda3/envs/pysal-workshop/lib/python3.7/site-packages/geopandas/geodataframe.py:422: RuntimeWarning: Sequential read of iterator was interrupted. Resetting iterator. This can negatively impact the performance.\n",
      "  for feature in features_lst:\n"
     ]
    },
    {
     "data": {
      "text/plain": [
       "(450, 4)"
      ]
     },
     "execution_count": 20,
     "metadata": {},
     "output_type": "execute_result"
    }
   ],
   "source": [
    "gdf = gpd.read_file(z.open(\"ASGS 2016 Volume 3 2020.gpkg\"))\n",
    "gdf.shape"
   ]
  },
  {
   "cell_type": "code",
   "execution_count": 21,
   "id": "union-franklin",
   "metadata": {},
   "outputs": [
    {
     "data": {
      "text/html": [
       "<div>\n",
       "<style scoped>\n",
       "    .dataframe tbody tr th:only-of-type {\n",
       "        vertical-align: middle;\n",
       "    }\n",
       "\n",
       "    .dataframe tbody tr th {\n",
       "        vertical-align: top;\n",
       "    }\n",
       "\n",
       "    .dataframe thead th {\n",
       "        text-align: right;\n",
       "    }\n",
       "</style>\n",
       "<table border=\"1\" class=\"dataframe\">\n",
       "  <thead>\n",
       "    <tr style=\"text-align: right;\">\n",
       "      <th></th>\n",
       "      <th>SED_CODE_2020</th>\n",
       "      <th>SED_NAME_2020</th>\n",
       "      <th>AREA_ALBERS_SQKM</th>\n",
       "      <th>geometry</th>\n",
       "    </tr>\n",
       "  </thead>\n",
       "  <tbody>\n",
       "    <tr>\n",
       "      <th>0</th>\n",
       "      <td>10001</td>\n",
       "      <td>Albury</td>\n",
       "      <td>19487.8332</td>\n",
       "      <td>POLYGON ((146.92855 -36.09771, 146.92807 -36.0...</td>\n",
       "    </tr>\n",
       "    <tr>\n",
       "      <th>1</th>\n",
       "      <td>10002</td>\n",
       "      <td>Auburn</td>\n",
       "      <td>38.8810</td>\n",
       "      <td>POLYGON ((151.05568 -33.82490, 151.05579 -33.8...</td>\n",
       "    </tr>\n",
       "    <tr>\n",
       "      <th>2</th>\n",
       "      <td>10003</td>\n",
       "      <td>Ballina</td>\n",
       "      <td>1048.6389</td>\n",
       "      <td>MULTIPOLYGON (((153.62192 -28.70597, 153.62200...</td>\n",
       "    </tr>\n",
       "    <tr>\n",
       "      <th>3</th>\n",
       "      <td>10004</td>\n",
       "      <td>Balmain</td>\n",
       "      <td>13.1600</td>\n",
       "      <td>POLYGON ((151.19167 -33.85521, 151.19146 -33.8...</td>\n",
       "    </tr>\n",
       "    <tr>\n",
       "      <th>4</th>\n",
       "      <td>10005</td>\n",
       "      <td>Bankstown</td>\n",
       "      <td>27.3251</td>\n",
       "      <td>POLYGON ((150.97636 -33.90360, 150.97587 -33.9...</td>\n",
       "    </tr>\n",
       "  </tbody>\n",
       "</table>\n",
       "</div>"
      ],
      "text/plain": [
       "  SED_CODE_2020 SED_NAME_2020  AREA_ALBERS_SQKM  \\\n",
       "0         10001        Albury        19487.8332   \n",
       "1         10002        Auburn           38.8810   \n",
       "2         10003       Ballina         1048.6389   \n",
       "3         10004       Balmain           13.1600   \n",
       "4         10005     Bankstown           27.3251   \n",
       "\n",
       "                                            geometry  \n",
       "0  POLYGON ((146.92855 -36.09771, 146.92807 -36.0...  \n",
       "1  POLYGON ((151.05568 -33.82490, 151.05579 -33.8...  \n",
       "2  MULTIPOLYGON (((153.62192 -28.70597, 153.62200...  \n",
       "3  POLYGON ((151.19167 -33.85521, 151.19146 -33.8...  \n",
       "4  POLYGON ((150.97636 -33.90360, 150.97587 -33.9...  "
      ]
     },
     "execution_count": 21,
     "metadata": {},
     "output_type": "execute_result"
    }
   ],
   "source": [
    "gdf.head()"
   ]
  },
  {
   "cell_type": "code",
   "execution_count": 23,
   "id": "informed-steps",
   "metadata": {},
   "outputs": [
    {
     "data": {
      "text/plain": [
       "<AxesSubplot:>"
      ]
     },
     "execution_count": 23,
     "metadata": {},
     "output_type": "execute_result"
    },
    {
     "data": {
      "image/png": "[encoded data removed]",
      "text/plain": [
       "<Figure size 432x288 with 1 Axes>"
      ]
     },
     "metadata": {
      "needs_background": "light"
     },
     "output_type": "display_data"
    }
   ],
   "source": [
    "gdf.plot()"
   ]
  }
 ],
 "metadata": {
  "kernelspec": {
   "display_name": "Python 3",
   "language": "python",
   "name": "python3"
  },
  "language_info": {
   "codemirror_mode": {
    "name": "ipython",
    "version": 3
   },
   "file_extension": ".py",
   "mimetype": "text/x-python",
   "name": "python",
   "nbconvert_exporter": "python",
   "pygments_lexer": "ipython3",
   "version": "3.7.10"
  }
 },
 "nbformat": 4,
 "nbformat_minor": 5
}
