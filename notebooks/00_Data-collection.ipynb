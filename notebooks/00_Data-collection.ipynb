{
 "cells": [
  {
   "cell_type": "markdown",
   "id": "confidential-honolulu",
   "metadata": {},
   "source": [
    "### Datasets:\n",
    "- ABS sensus\n",
    "- Shapefiles\n",
    "- "
   ]
  },
  {
   "cell_type": "markdown",
   "id": "disabled-hepatitis",
   "metadata": {},
   "source": [
    "### Victorian crime statistics\n",
    "Source: \n",
    "https://www.crimestatistics.vic.gov.au/crime-statistics/latest-victorian-crime-data/download-data-0\n"
   ]
  },
  {
   "cell_type": "code",
   "execution_count": 5,
   "id": "excessive-alcohol",
   "metadata": {},
   "outputs": [],
   "source": [
    "import requests\n",
    "import pandas as pd"
   ]
  },
  {
   "cell_type": "code",
   "execution_count": 3,
   "id": "sacred-reunion",
   "metadata": {},
   "outputs": [],
   "source": [
    "def download_file(url, save_file):\n",
    "    # Download and save a file from the url\n",
    "    with open(save_file, 'wb') as f:\n",
    "        r = requests.get(url)\n",
    "        f.write(r.content)  "
   ]
  },
  {
   "cell_type": "code",
   "execution_count": 4,
   "id": "closing-europe",
   "metadata": {},
   "outputs": [],
   "source": [
    "# Download LGA_Criminal_Incidents\n",
    "url = \"https://www.crimestatistics.vic.gov.au/sites/default/files/embridge_cache/emshare/original/public/users/202103/f1/092cf1840/Data_Tables_LGA_Criminal_Incidents_Year_Ending_December_2020.xlsx\"\n",
    "save_file = \"../data/raw/LGA_Criminal_Incidents.xlsx\"\n",
    "download_file(url, save_file)"
   ]
  },
  {
   "cell_type": "code",
   "execution_count": 28,
   "id": "forward-tamil",
   "metadata": {},
   "outputs": [],
   "source": [
    "# Fix the error when read excel files using Pandas\n",
    "# !pip install xlrd\n",
    "# !pip install openpyxl"
   ]
  },
  {
   "cell_type": "markdown",
   "id": "scenic-temple",
   "metadata": {},
   "source": [
    "##### Read criminal incidents and rate"
   ]
  },
  {
   "cell_type": "code",
   "execution_count": 23,
   "id": "certified-alcohol",
   "metadata": {},
   "outputs": [
    {
     "data": {
      "text/plain": [
       "(pandas.core.frame.DataFrame, (50267, 10))"
      ]
     },
     "execution_count": 23,
     "metadata": {},
     "output_type": "execute_result"
    }
   ],
   "source": [
    "crim_rate = pd.read_excel(save_file, sheet_name=\"Table 02\")\n",
    "type(crim_rate), crim_rate.shape"
   ]
  },
  {
   "cell_type": "code",
   "execution_count": 25,
   "id": "infectious-product",
   "metadata": {
    "scrolled": true
   },
   "outputs": [
    {
     "data": {
      "text/html": [
       "<div>\n",
       "<style scoped>\n",
       "    .dataframe tbody tr th:only-of-type {\n",
       "        vertical-align: middle;\n",
       "    }\n",
       "\n",
       "    .dataframe tbody tr th {\n",
       "        vertical-align: top;\n",
       "    }\n",
       "\n",
       "    .dataframe thead th {\n",
       "        text-align: right;\n",
       "    }\n",
       "</style>\n",
       "<table border=\"1\" class=\"dataframe\">\n",
       "  <thead>\n",
       "    <tr style=\"text-align: right;\">\n",
       "      <th></th>\n",
       "      <th>Year</th>\n",
       "      <th>Year ending</th>\n",
       "      <th>Police Service Area</th>\n",
       "      <th>Local Government Area</th>\n",
       "      <th>Offence Division</th>\n",
       "      <th>Offence Subdivision</th>\n",
       "      <th>Offence Subgroup</th>\n",
       "      <th>Incidents Recorded</th>\n",
       "      <th>PSA Rate per 100,000 population</th>\n",
       "      <th>LGA Rate per 100,000 population</th>\n",
       "    </tr>\n",
       "  </thead>\n",
       "  <tbody>\n",
       "    <tr>\n",
       "      <th>0</th>\n",
       "      <td>2020</td>\n",
       "      <td>December</td>\n",
       "      <td>Ballarat</td>\n",
       "      <td>Ballarat</td>\n",
       "      <td>A Crimes against the person</td>\n",
       "      <td>A10 Homicide and related offences</td>\n",
       "      <td>A10 Homicide and related offences</td>\n",
       "      <td>2</td>\n",
       "      <td>1.681350</td>\n",
       "      <td>1.794160</td>\n",
       "    </tr>\n",
       "    <tr>\n",
       "      <th>1</th>\n",
       "      <td>2020</td>\n",
       "      <td>December</td>\n",
       "      <td>Ballarat</td>\n",
       "      <td>Ballarat</td>\n",
       "      <td>A Crimes against the person</td>\n",
       "      <td>A20 Assault and related offences</td>\n",
       "      <td>A211 FV Serious assault</td>\n",
       "      <td>144</td>\n",
       "      <td>121.057179</td>\n",
       "      <td>129.179505</td>\n",
       "    </tr>\n",
       "    <tr>\n",
       "      <th>2</th>\n",
       "      <td>2020</td>\n",
       "      <td>December</td>\n",
       "      <td>Ballarat</td>\n",
       "      <td>Ballarat</td>\n",
       "      <td>A Crimes against the person</td>\n",
       "      <td>A20 Assault and related offences</td>\n",
       "      <td>A212 Non-FV Serious assault</td>\n",
       "      <td>131</td>\n",
       "      <td>110.128406</td>\n",
       "      <td>117.517467</td>\n",
       "    </tr>\n",
       "    <tr>\n",
       "      <th>3</th>\n",
       "      <td>2020</td>\n",
       "      <td>December</td>\n",
       "      <td>Ballarat</td>\n",
       "      <td>Ballarat</td>\n",
       "      <td>A Crimes against the person</td>\n",
       "      <td>A20 Assault and related offences</td>\n",
       "      <td>A22 Assault police, emergency services or othe...</td>\n",
       "      <td>34</td>\n",
       "      <td>28.582945</td>\n",
       "      <td>30.500717</td>\n",
       "    </tr>\n",
       "    <tr>\n",
       "      <th>4</th>\n",
       "      <td>2020</td>\n",
       "      <td>December</td>\n",
       "      <td>Ballarat</td>\n",
       "      <td>Ballarat</td>\n",
       "      <td>A Crimes against the person</td>\n",
       "      <td>A20 Assault and related offences</td>\n",
       "      <td>A231 FV Common assault</td>\n",
       "      <td>271</td>\n",
       "      <td>227.822885</td>\n",
       "      <td>243.108652</td>\n",
       "    </tr>\n",
       "  </tbody>\n",
       "</table>\n",
       "</div>"
      ],
      "text/plain": [
       "   Year Year ending Police Service Area Local Government Area  \\\n",
       "0  2020    December            Ballarat              Ballarat   \n",
       "1  2020    December            Ballarat              Ballarat   \n",
       "2  2020    December            Ballarat              Ballarat   \n",
       "3  2020    December            Ballarat              Ballarat   \n",
       "4  2020    December            Ballarat              Ballarat   \n",
       "\n",
       "              Offence Division                Offence Subdivision  \\\n",
       "0  A Crimes against the person  A10 Homicide and related offences   \n",
       "1  A Crimes against the person   A20 Assault and related offences   \n",
       "2  A Crimes against the person   A20 Assault and related offences   \n",
       "3  A Crimes against the person   A20 Assault and related offences   \n",
       "4  A Crimes against the person   A20 Assault and related offences   \n",
       "\n",
       "                                    Offence Subgroup  Incidents Recorded  \\\n",
       "0                  A10 Homicide and related offences                   2   \n",
       "1                            A211 FV Serious assault                 144   \n",
       "2                        A212 Non-FV Serious assault                 131   \n",
       "3  A22 Assault police, emergency services or othe...                  34   \n",
       "4                             A231 FV Common assault                 271   \n",
       "\n",
       "   PSA Rate per 100,000 population  LGA Rate per 100,000 population  \n",
       "0                         1.681350                         1.794160  \n",
       "1                       121.057179                       129.179505  \n",
       "2                       110.128406                       117.517467  \n",
       "3                        28.582945                        30.500717  \n",
       "4                       227.822885                       243.108652  "
      ]
     },
     "execution_count": 25,
     "metadata": {},
     "output_type": "execute_result"
    }
   ],
   "source": [
    "crim_rate.head()"
   ]
  },
  {
   "cell_type": "markdown",
   "id": "dietary-consultation",
   "metadata": {},
   "source": [
    "##### Read Criminal incidents by principal offence, local government area and postcode or suburb/town 2011-2020"
   ]
  },
  {
   "cell_type": "code",
   "execution_count": null,
   "id": "other-anderson",
   "metadata": {},
   "outputs": [],
   "source": [
    "crim_offence = pd.read_excel(save_file, sheet_name=\"Table 03\")\n",
    "type(crim_offence), crim_offence.shape"
   ]
  },
  {
   "cell_type": "code",
   "execution_count": null,
   "id": "favorite-architect",
   "metadata": {},
   "outputs": [],
   "source": [
    "crim_offence.head()"
   ]
  },
  {
   "cell_type": "markdown",
   "id": "female-northern",
   "metadata": {},
   "source": [
    "##### Criminal incidents by location type and local government area 2011-2020"
   ]
  },
  {
   "cell_type": "code",
   "execution_count": null,
   "id": "tropical-conflict",
   "metadata": {},
   "outputs": [],
   "source": [
    "crim_location = pd.read_excel(save_file, sheet_name=\"Table 04\")\n",
    "type(crim_location), crim_location.shape"
   ]
  },
  {
   "cell_type": "code",
   "execution_count": 21,
   "id": "surprised-batman",
   "metadata": {},
   "outputs": [
    {
     "data": {
      "text/html": [
       "<div>\n",
       "<style scoped>\n",
       "    .dataframe tbody tr th:only-of-type {\n",
       "        vertical-align: middle;\n",
       "    }\n",
       "\n",
       "    .dataframe tbody tr th {\n",
       "        vertical-align: top;\n",
       "    }\n",
       "\n",
       "    .dataframe thead th {\n",
       "        text-align: right;\n",
       "    }\n",
       "</style>\n",
       "<table border=\"1\" class=\"dataframe\">\n",
       "  <thead>\n",
       "    <tr style=\"text-align: right;\">\n",
       "      <th></th>\n",
       "      <th>Year</th>\n",
       "      <th>Year ending</th>\n",
       "      <th>Local Government Area</th>\n",
       "      <th>Location Division</th>\n",
       "      <th>Location Subdivision</th>\n",
       "      <th>Location Group</th>\n",
       "      <th>Incidents Recorded</th>\n",
       "    </tr>\n",
       "  </thead>\n",
       "  <tbody>\n",
       "    <tr>\n",
       "      <th>0</th>\n",
       "      <td>2020</td>\n",
       "      <td>December</td>\n",
       "      <td>Alpine</td>\n",
       "      <td>1 Residential</td>\n",
       "      <td>11 Dwelling - private</td>\n",
       "      <td>111 Flat/Unit/Apartment</td>\n",
       "      <td>6</td>\n",
       "    </tr>\n",
       "    <tr>\n",
       "      <th>1</th>\n",
       "      <td>2020</td>\n",
       "      <td>December</td>\n",
       "      <td>Alpine</td>\n",
       "      <td>1 Residential</td>\n",
       "      <td>11 Dwelling - private</td>\n",
       "      <td>112 House</td>\n",
       "      <td>119</td>\n",
       "    </tr>\n",
       "    <tr>\n",
       "      <th>2</th>\n",
       "      <td>2020</td>\n",
       "      <td>December</td>\n",
       "      <td>Alpine</td>\n",
       "      <td>1 Residential</td>\n",
       "      <td>11 Dwelling - private</td>\n",
       "      <td>114 Caravan/Mobile Home</td>\n",
       "      <td>7</td>\n",
       "    </tr>\n",
       "    <tr>\n",
       "      <th>3</th>\n",
       "      <td>2020</td>\n",
       "      <td>December</td>\n",
       "      <td>Alpine</td>\n",
       "      <td>1 Residential</td>\n",
       "      <td>11 Dwelling - private</td>\n",
       "      <td>116 Ministry Of Housing</td>\n",
       "      <td>1</td>\n",
       "    </tr>\n",
       "    <tr>\n",
       "      <th>4</th>\n",
       "      <td>2020</td>\n",
       "      <td>December</td>\n",
       "      <td>Alpine</td>\n",
       "      <td>1 Residential</td>\n",
       "      <td>11 Dwelling - private</td>\n",
       "      <td>117 Farm House</td>\n",
       "      <td>3</td>\n",
       "    </tr>\n",
       "  </tbody>\n",
       "</table>\n",
       "</div>"
      ],
      "text/plain": [
       "   Year Year ending Local Government Area Location Division  \\\n",
       "0  2020    December                Alpine     1 Residential   \n",
       "1  2020    December                Alpine     1 Residential   \n",
       "2  2020    December                Alpine     1 Residential   \n",
       "3  2020    December                Alpine     1 Residential   \n",
       "4  2020    December                Alpine     1 Residential   \n",
       "\n",
       "    Location Subdivision           Location Group  Incidents Recorded  \n",
       "0  11 Dwelling - private  111 Flat/Unit/Apartment                   6  \n",
       "1  11 Dwelling - private                112 House                 119  \n",
       "2  11 Dwelling - private  114 Caravan/Mobile Home                   7  \n",
       "3  11 Dwelling - private  116 Ministry Of Housing                   1  \n",
       "4  11 Dwelling - private           117 Farm House                   3  "
      ]
     },
     "execution_count": 21,
     "metadata": {},
     "output_type": "execute_result"
    }
   ],
   "source": [
    "crim_location.head()"
   ]
  }
 ],
 "metadata": {
  "kernelspec": {
   "display_name": "Python 3",
   "language": "python",
   "name": "python3"
  },
  "language_info": {
   "codemirror_mode": {
    "name": "ipython",
    "version": 3
   },
   "file_extension": ".py",
   "mimetype": "text/x-python",
   "name": "python",
   "nbconvert_exporter": "python",
   "pygments_lexer": "ipython3",
   "version": "3.7.10"
  }
 },
 "nbformat": 4,
 "nbformat_minor": 5
}
