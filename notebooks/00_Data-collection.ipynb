{
 "cells": [
  {
   "cell_type": "markdown",
   "id": "shared-freight",
   "metadata": {},
   "source": [
    "# Datasets:\n",
    "- ABS sensus for Vic in postcodes/suburbs\n",
    "- Shapefiles for Vic in postcodes\n",
    "- Crime statistics in Vic in postcodes"
   ]
  },
  {
   "cell_type": "markdown",
   "id": "surrounded-lyric",
   "metadata": {},
   "source": [
    "# Victorian crime statistics\n",
    "Source: \n",
    "https://www.crimestatistics.vic.gov.au/crime-statistics/latest-victorian-crime-data/download-data-0\n",
    "\n",
    "In these datasets, we will download the two most important data sets: Crimiral incidents and Recorded offence"
   ]
  },
  {
   "cell_type": "code",
   "execution_count": 1,
   "id": "perceived-steering",
   "metadata": {},
   "outputs": [],
   "source": [
    "import requests\n",
    "import pandas as pd"
   ]
  },
  {
   "cell_type": "code",
   "execution_count": 2,
   "id": "smoking-scott",
   "metadata": {},
   "outputs": [],
   "source": [
    "def download_file(url, save_file):\n",
    "    # Download and save a file from the url\n",
    "    with open(save_file, 'wb') as f:\n",
    "        r = requests.get(url)\n",
    "        f.write(r.content)  "
   ]
  },
  {
   "cell_type": "markdown",
   "id": "resistant-message",
   "metadata": {},
   "source": [
    "### Download LGA_Criminal_Incidents"
   ]
  },
  {
   "cell_type": "code",
   "execution_count": 3,
   "id": "fitted-excess",
   "metadata": {},
   "outputs": [],
   "source": [
    "# Download LGA_Criminal_Incidents\n",
    "url = \"https://www.crimestatistics.vic.gov.au/sites/default/files/embridge_cache/emshare/original/public/users/202103/f1/092cf1840/Data_Tables_LGA_Criminal_Incidents_Year_Ending_December_2020.xlsx\"\n",
    "save_file = \"../data/raw/LGA_Criminal_Incidents.xlsx\"\n",
    "download_file(url, save_file)"
   ]
  },
  {
   "cell_type": "code",
   "execution_count": 4,
   "id": "regional-trick",
   "metadata": {},
   "outputs": [],
   "source": []
  },
  {
   "cell_type": "markdown",
   "id": "passing-daughter",
   "metadata": {},
   "source": [
    "##### Read criminal incidents and rate"
   ]
  },
  {
   "cell_type": "code",
   "execution_count": 5,
   "id": "lesbian-workshop",
   "metadata": {},
   "outputs": [
    {
     "data": {
      "text/plain": [
       "(pandas.core.frame.DataFrame, (50267, 10))"
      ]
     },
     "execution_count": 5,
     "metadata": {},
     "output_type": "execute_result"
    }
   ],
   "source": [
    "crim_rate = pd.read_excel(save_file, sheet_name=\"Table 02\")\n",
    "type(crim_rate), crim_rate.shape"
   ]
  },
  {
   "cell_type": "code",
   "execution_count": 6,
   "id": "changed-buffer",
   "metadata": {
    "scrolled": true
   },
   "outputs": [
    {
     "data": {
      "text/html": [
       "<div>\n",
       "<style scoped>\n",
       "    .dataframe tbody tr th:only-of-type {\n",
       "        vertical-align: middle;\n",
       "    }\n",
       "\n",
       "    .dataframe tbody tr th {\n",
       "        vertical-align: top;\n",
       "    }\n",
       "\n",
       "    .dataframe thead th {\n",
       "        text-align: right;\n",
       "    }\n",
       "</style>\n",
       "<table border=\"1\" class=\"dataframe\">\n",
       "  <thead>\n",
       "    <tr style=\"text-align: right;\">\n",
       "      <th></th>\n",
       "      <th>Year</th>\n",
       "      <th>Year ending</th>\n",
       "      <th>Police Service Area</th>\n",
       "      <th>Local Government Area</th>\n",
       "      <th>Offence Division</th>\n",
       "      <th>Offence Subdivision</th>\n",
       "      <th>Offence Subgroup</th>\n",
       "      <th>Incidents Recorded</th>\n",
       "      <th>PSA Rate per 100,000 population</th>\n",
       "      <th>LGA Rate per 100,000 population</th>\n",
       "    </tr>\n",
       "  </thead>\n",
       "  <tbody>\n",
       "    <tr>\n",
       "      <th>0</th>\n",
       "      <td>2020</td>\n",
       "      <td>December</td>\n",
       "      <td>Ballarat</td>\n",
       "      <td>Ballarat</td>\n",
       "      <td>A Crimes against the person</td>\n",
       "      <td>A10 Homicide and related offences</td>\n",
       "      <td>A10 Homicide and related offences</td>\n",
       "      <td>2</td>\n",
       "      <td>1.681350</td>\n",
       "      <td>1.794160</td>\n",
       "    </tr>\n",
       "    <tr>\n",
       "      <th>1</th>\n",
       "      <td>2020</td>\n",
       "      <td>December</td>\n",
       "      <td>Ballarat</td>\n",
       "      <td>Ballarat</td>\n",
       "      <td>A Crimes against the person</td>\n",
       "      <td>A20 Assault and related offences</td>\n",
       "      <td>A211 FV Serious assault</td>\n",
       "      <td>144</td>\n",
       "      <td>121.057179</td>\n",
       "      <td>129.179505</td>\n",
       "    </tr>\n",
       "    <tr>\n",
       "      <th>2</th>\n",
       "      <td>2020</td>\n",
       "      <td>December</td>\n",
       "      <td>Ballarat</td>\n",
       "      <td>Ballarat</td>\n",
       "      <td>A Crimes against the person</td>\n",
       "      <td>A20 Assault and related offences</td>\n",
       "      <td>A212 Non-FV Serious assault</td>\n",
       "      <td>131</td>\n",
       "      <td>110.128406</td>\n",
       "      <td>117.517467</td>\n",
       "    </tr>\n",
       "    <tr>\n",
       "      <th>3</th>\n",
       "      <td>2020</td>\n",
       "      <td>December</td>\n",
       "      <td>Ballarat</td>\n",
       "      <td>Ballarat</td>\n",
       "      <td>A Crimes against the person</td>\n",
       "      <td>A20 Assault and related offences</td>\n",
       "      <td>A22 Assault police, emergency services or othe...</td>\n",
       "      <td>34</td>\n",
       "      <td>28.582945</td>\n",
       "      <td>30.500717</td>\n",
       "    </tr>\n",
       "    <tr>\n",
       "      <th>4</th>\n",
       "      <td>2020</td>\n",
       "      <td>December</td>\n",
       "      <td>Ballarat</td>\n",
       "      <td>Ballarat</td>\n",
       "      <td>A Crimes against the person</td>\n",
       "      <td>A20 Assault and related offences</td>\n",
       "      <td>A231 FV Common assault</td>\n",
       "      <td>271</td>\n",
       "      <td>227.822885</td>\n",
       "      <td>243.108652</td>\n",
       "    </tr>\n",
       "  </tbody>\n",
       "</table>\n",
       "</div>"
      ],
      "text/plain": [
       "   Year Year ending Police Service Area Local Government Area  \\\n",
       "0  2020    December            Ballarat              Ballarat   \n",
       "1  2020    December            Ballarat              Ballarat   \n",
       "2  2020    December            Ballarat              Ballarat   \n",
       "3  2020    December            Ballarat              Ballarat   \n",
       "4  2020    December            Ballarat              Ballarat   \n",
       "\n",
       "              Offence Division                Offence Subdivision  \\\n",
       "0  A Crimes against the person  A10 Homicide and related offences   \n",
       "1  A Crimes against the person   A20 Assault and related offences   \n",
       "2  A Crimes against the person   A20 Assault and related offences   \n",
       "3  A Crimes against the person   A20 Assault and related offences   \n",
       "4  A Crimes against the person   A20 Assault and related offences   \n",
       "\n",
       "                                    Offence Subgroup  Incidents Recorded  \\\n",
       "0                  A10 Homicide and related offences                   2   \n",
       "1                            A211 FV Serious assault                 144   \n",
       "2                        A212 Non-FV Serious assault                 131   \n",
       "3  A22 Assault police, emergency services or othe...                  34   \n",
       "4                             A231 FV Common assault                 271   \n",
       "\n",
       "   PSA Rate per 100,000 population  LGA Rate per 100,000 population  \n",
       "0                         1.681350                         1.794160  \n",
       "1                       121.057179                       129.179505  \n",
       "2                       110.128406                       117.517467  \n",
       "3                        28.582945                        30.500717  \n",
       "4                       227.822885                       243.108652  "
      ]
     },
     "execution_count": 6,
     "metadata": {},
     "output_type": "execute_result"
    }
   ],
   "source": [
    "crim_rate.head()"
   ]
  },
  {
   "cell_type": "code",
   "execution_count": 7,
   "id": "saving-haiti",
   "metadata": {},
   "outputs": [],
   "source": [
    "crim_rate.to_csv(\"../data/raw/crim_rate.csv\", index=False)"
   ]
  },
  {
   "cell_type": "code",
   "execution_count": 8,
   "id": "parallel-freeware",
   "metadata": {},
   "outputs": [
    {
     "data": {
      "text/plain": [
       "B Property and deception offences       14748\n",
       "A Crimes against the person             14276\n",
       "D Public order and security offences     8198\n",
       "E Justice procedures offences            5836\n",
       "C Drug offences                          3736\n",
       "F Other offences                         3473\n",
       "Name: Offence Division, dtype: int64"
      ]
     },
     "execution_count": 8,
     "metadata": {},
     "output_type": "execute_result"
    }
   ],
   "source": [
    "crim_rate[\"Offence Division\"].value_counts()"
   ]
  },
  {
   "cell_type": "markdown",
   "id": "cultural-malpractice",
   "metadata": {},
   "source": [
    "##### Read Criminal incidents by principal offence, local government area and postcode or suburb/town 2011-2020"
   ]
  },
  {
   "cell_type": "code",
   "execution_count": 9,
   "id": "limiting-february",
   "metadata": {},
   "outputs": [
    {
     "data": {
      "text/plain": [
       "(pandas.core.frame.DataFrame, (317503, 9))"
      ]
     },
     "execution_count": 9,
     "metadata": {},
     "output_type": "execute_result"
    }
   ],
   "source": [
    "crim_offence = pd.read_excel(save_file, sheet_name=\"Table 03\")\n",
    "type(crim_offence), crim_offence.shape"
   ]
  },
  {
   "cell_type": "code",
   "execution_count": 10,
   "id": "parliamentary-ireland",
   "metadata": {},
   "outputs": [
    {
     "data": {
      "text/html": [
       "<div>\n",
       "<style scoped>\n",
       "    .dataframe tbody tr th:only-of-type {\n",
       "        vertical-align: middle;\n",
       "    }\n",
       "\n",
       "    .dataframe tbody tr th {\n",
       "        vertical-align: top;\n",
       "    }\n",
       "\n",
       "    .dataframe thead th {\n",
       "        text-align: right;\n",
       "    }\n",
       "</style>\n",
       "<table border=\"1\" class=\"dataframe\">\n",
       "  <thead>\n",
       "    <tr style=\"text-align: right;\">\n",
       "      <th></th>\n",
       "      <th>Year</th>\n",
       "      <th>Year ending</th>\n",
       "      <th>Local Government Area</th>\n",
       "      <th>Postcode</th>\n",
       "      <th>Suburb/Town Name</th>\n",
       "      <th>Offence Division</th>\n",
       "      <th>Offence Subdivision</th>\n",
       "      <th>Offence Subgroup</th>\n",
       "      <th>Incidents Recorded</th>\n",
       "    </tr>\n",
       "  </thead>\n",
       "  <tbody>\n",
       "    <tr>\n",
       "      <th>0</th>\n",
       "      <td>2020</td>\n",
       "      <td>December</td>\n",
       "      <td>Alpine</td>\n",
       "      <td>3691</td>\n",
       "      <td>Dederang</td>\n",
       "      <td>A Crimes against the person</td>\n",
       "      <td>A20 Assault and related offences</td>\n",
       "      <td>A211 FV Serious assault</td>\n",
       "      <td>1</td>\n",
       "    </tr>\n",
       "    <tr>\n",
       "      <th>1</th>\n",
       "      <td>2020</td>\n",
       "      <td>December</td>\n",
       "      <td>Alpine</td>\n",
       "      <td>3691</td>\n",
       "      <td>Dederang</td>\n",
       "      <td>B Property and deception offences</td>\n",
       "      <td>B40 Theft</td>\n",
       "      <td>B41 Motor vehicle theft</td>\n",
       "      <td>1</td>\n",
       "    </tr>\n",
       "    <tr>\n",
       "      <th>2</th>\n",
       "      <td>2020</td>\n",
       "      <td>December</td>\n",
       "      <td>Alpine</td>\n",
       "      <td>3691</td>\n",
       "      <td>Glen Creek</td>\n",
       "      <td>C Drug offences</td>\n",
       "      <td>C30 Drug use and possession</td>\n",
       "      <td>C32 Drug possession</td>\n",
       "      <td>1</td>\n",
       "    </tr>\n",
       "    <tr>\n",
       "      <th>3</th>\n",
       "      <td>2020</td>\n",
       "      <td>December</td>\n",
       "      <td>Alpine</td>\n",
       "      <td>3691</td>\n",
       "      <td>Gundowring</td>\n",
       "      <td>C Drug offences</td>\n",
       "      <td>C10 Drug dealing and trafficking</td>\n",
       "      <td>C12 Drug trafficking</td>\n",
       "      <td>1</td>\n",
       "    </tr>\n",
       "    <tr>\n",
       "      <th>4</th>\n",
       "      <td>2020</td>\n",
       "      <td>December</td>\n",
       "      <td>Alpine</td>\n",
       "      <td>3691</td>\n",
       "      <td>Gundowring</td>\n",
       "      <td>E Justice procedures offences</td>\n",
       "      <td>E10 Justice procedures</td>\n",
       "      <td>E13 Resist or hinder officer</td>\n",
       "      <td>1</td>\n",
       "    </tr>\n",
       "  </tbody>\n",
       "</table>\n",
       "</div>"
      ],
      "text/plain": [
       "   Year Year ending Local Government Area  Postcode Suburb/Town Name  \\\n",
       "0  2020    December                Alpine      3691         Dederang   \n",
       "1  2020    December                Alpine      3691         Dederang   \n",
       "2  2020    December                Alpine      3691       Glen Creek   \n",
       "3  2020    December                Alpine      3691       Gundowring   \n",
       "4  2020    December                Alpine      3691       Gundowring   \n",
       "\n",
       "                    Offence Division               Offence Subdivision  \\\n",
       "0        A Crimes against the person  A20 Assault and related offences   \n",
       "1  B Property and deception offences                         B40 Theft   \n",
       "2                    C Drug offences       C30 Drug use and possession   \n",
       "3                    C Drug offences  C10 Drug dealing and trafficking   \n",
       "4      E Justice procedures offences            E10 Justice procedures   \n",
       "\n",
       "               Offence Subgroup  Incidents Recorded  \n",
       "0       A211 FV Serious assault                   1  \n",
       "1       B41 Motor vehicle theft                   1  \n",
       "2           C32 Drug possession                   1  \n",
       "3          C12 Drug trafficking                   1  \n",
       "4  E13 Resist or hinder officer                   1  "
      ]
     },
     "execution_count": 10,
     "metadata": {},
     "output_type": "execute_result"
    }
   ],
   "source": [
    "crim_offence.head()"
   ]
  },
  {
   "cell_type": "code",
   "execution_count": 11,
   "id": "informal-ferry",
   "metadata": {},
   "outputs": [],
   "source": [
    "crim_offence.to_csv(\"../data/raw/crim_offence.csv\", index=False)"
   ]
  },
  {
   "cell_type": "markdown",
   "id": "fundamental-power",
   "metadata": {},
   "source": [
    "##### Read Criminal incidents by location type and local government area 2011-2020"
   ]
  },
  {
   "cell_type": "code",
   "execution_count": 12,
   "id": "floating-robert",
   "metadata": {},
   "outputs": [
    {
     "data": {
      "text/plain": [
       "(pandas.core.frame.DataFrame, (53038, 7))"
      ]
     },
     "execution_count": 12,
     "metadata": {},
     "output_type": "execute_result"
    }
   ],
   "source": [
    "crim_location = pd.read_excel(save_file, sheet_name=\"Table 04\")\n",
    "type(crim_location), crim_location.shape"
   ]
  },
  {
   "cell_type": "code",
   "execution_count": 13,
   "id": "obvious-roads",
   "metadata": {},
   "outputs": [
    {
     "data": {
      "text/html": [
       "<div>\n",
       "<style scoped>\n",
       "    .dataframe tbody tr th:only-of-type {\n",
       "        vertical-align: middle;\n",
       "    }\n",
       "\n",
       "    .dataframe tbody tr th {\n",
       "        vertical-align: top;\n",
       "    }\n",
       "\n",
       "    .dataframe thead th {\n",
       "        text-align: right;\n",
       "    }\n",
       "</style>\n",
       "<table border=\"1\" class=\"dataframe\">\n",
       "  <thead>\n",
       "    <tr style=\"text-align: right;\">\n",
       "      <th></th>\n",
       "      <th>Year</th>\n",
       "      <th>Year ending</th>\n",
       "      <th>Local Government Area</th>\n",
       "      <th>Location Division</th>\n",
       "      <th>Location Subdivision</th>\n",
       "      <th>Location Group</th>\n",
       "      <th>Incidents Recorded</th>\n",
       "    </tr>\n",
       "  </thead>\n",
       "  <tbody>\n",
       "    <tr>\n",
       "      <th>0</th>\n",
       "      <td>2020</td>\n",
       "      <td>December</td>\n",
       "      <td>Alpine</td>\n",
       "      <td>1 Residential</td>\n",
       "      <td>11 Dwelling - private</td>\n",
       "      <td>111 Flat/Unit/Apartment</td>\n",
       "      <td>6</td>\n",
       "    </tr>\n",
       "    <tr>\n",
       "      <th>1</th>\n",
       "      <td>2020</td>\n",
       "      <td>December</td>\n",
       "      <td>Alpine</td>\n",
       "      <td>1 Residential</td>\n",
       "      <td>11 Dwelling - private</td>\n",
       "      <td>112 House</td>\n",
       "      <td>119</td>\n",
       "    </tr>\n",
       "    <tr>\n",
       "      <th>2</th>\n",
       "      <td>2020</td>\n",
       "      <td>December</td>\n",
       "      <td>Alpine</td>\n",
       "      <td>1 Residential</td>\n",
       "      <td>11 Dwelling - private</td>\n",
       "      <td>114 Caravan/Mobile Home</td>\n",
       "      <td>7</td>\n",
       "    </tr>\n",
       "    <tr>\n",
       "      <th>3</th>\n",
       "      <td>2020</td>\n",
       "      <td>December</td>\n",
       "      <td>Alpine</td>\n",
       "      <td>1 Residential</td>\n",
       "      <td>11 Dwelling - private</td>\n",
       "      <td>116 Ministry Of Housing</td>\n",
       "      <td>1</td>\n",
       "    </tr>\n",
       "    <tr>\n",
       "      <th>4</th>\n",
       "      <td>2020</td>\n",
       "      <td>December</td>\n",
       "      <td>Alpine</td>\n",
       "      <td>1 Residential</td>\n",
       "      <td>11 Dwelling - private</td>\n",
       "      <td>117 Farm House</td>\n",
       "      <td>3</td>\n",
       "    </tr>\n",
       "  </tbody>\n",
       "</table>\n",
       "</div>"
      ],
      "text/plain": [
       "   Year Year ending Local Government Area Location Division  \\\n",
       "0  2020    December                Alpine     1 Residential   \n",
       "1  2020    December                Alpine     1 Residential   \n",
       "2  2020    December                Alpine     1 Residential   \n",
       "3  2020    December                Alpine     1 Residential   \n",
       "4  2020    December                Alpine     1 Residential   \n",
       "\n",
       "    Location Subdivision           Location Group  Incidents Recorded  \n",
       "0  11 Dwelling - private  111 Flat/Unit/Apartment                   6  \n",
       "1  11 Dwelling - private                112 House                 119  \n",
       "2  11 Dwelling - private  114 Caravan/Mobile Home                   7  \n",
       "3  11 Dwelling - private  116 Ministry Of Housing                   1  \n",
       "4  11 Dwelling - private           117 Farm House                   3  "
      ]
     },
     "execution_count": 13,
     "metadata": {},
     "output_type": "execute_result"
    }
   ],
   "source": [
    "crim_location.head()"
   ]
  },
  {
   "cell_type": "code",
   "execution_count": 14,
   "id": "smoking-impact",
   "metadata": {},
   "outputs": [],
   "source": [
    "crim_location.to_csv(\"../data/raw/crim_location.csv\", index=False)"
   ]
  },
  {
   "cell_type": "markdown",
   "id": "opponent-palestine",
   "metadata": {},
   "source": [
    "# ABS census\n",
    "Source:\n",
    "https://www.abs.gov.au/websitedbs/D3310114.nsf/Home/2016%20DataPacks"
   ]
  },
  {
   "cell_type": "code",
   "execution_count": null,
   "id": "patent-sweet",
   "metadata": {},
   "outputs": [],
   "source": [
    "url = \n",
    "save_file = \n",
    "download_file(url, save_file)"
   ]
  }
 ],
 "metadata": {
  "kernelspec": {
   "display_name": "Python 3",
   "language": "python",
   "name": "python3"
  },
  "language_info": {
   "codemirror_mode": {
    "name": "ipython",
    "version": 3
   },
   "file_extension": ".py",
   "mimetype": "text/x-python",
   "name": "python",
   "nbconvert_exporter": "python",
   "pygments_lexer": "ipython3",
   "version": "3.7.10"
  }
 },
 "nbformat": 4,
 "nbformat_minor": 5
}
