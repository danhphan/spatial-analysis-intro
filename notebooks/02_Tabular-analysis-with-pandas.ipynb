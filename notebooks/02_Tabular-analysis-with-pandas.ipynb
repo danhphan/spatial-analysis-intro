{
 "cells": [
  {
   "cell_type": "code",
   "execution_count": 22,
   "id": "apart-march",
   "metadata": {},
   "outputs": [],
   "source": [
    "import numpy as np\n",
    "import pandas as pd\n",
    "import matplotlib.pyplot as plt"
   ]
  },
  {
   "cell_type": "markdown",
   "id": "posted-young",
   "metadata": {},
   "source": [
    "### Read data sets"
   ]
  },
  {
   "cell_type": "code",
   "execution_count": 2,
   "id": "sorted-specific",
   "metadata": {},
   "outputs": [
    {
     "data": {
      "text/plain": [
       "((52877, 10), (343948, 9), (53310, 7))"
      ]
     },
     "execution_count": 2,
     "metadata": {},
     "output_type": "execute_result"
    }
   ],
   "source": [
    "crim_rate = pd.read_csv(\"../data/raw/crim_rate.csv\")\n",
    "crim_offence = pd.read_csv(\"../data/raw/crim_offence.csv\")\n",
    "crim_location = pd.read_csv(\"../data/raw/crim_location.csv\")\n",
    "crim_rate.shape, crim_offence.shape, crim_location.shape"
   ]
  },
  {
   "cell_type": "markdown",
   "id": "supposed-morrison",
   "metadata": {},
   "source": [
    "##### Criminal incidents rate"
   ]
  },
  {
   "cell_type": "code",
   "execution_count": 4,
   "id": "considered-fitness",
   "metadata": {},
   "outputs": [
    {
     "data": {
      "text/html": [
       "<div>\n",
       "<style scoped>\n",
       "    .dataframe tbody tr th:only-of-type {\n",
       "        vertical-align: middle;\n",
       "    }\n",
       "\n",
       "    .dataframe tbody tr th {\n",
       "        vertical-align: top;\n",
       "    }\n",
       "\n",
       "    .dataframe thead th {\n",
       "        text-align: right;\n",
       "    }\n",
       "</style>\n",
       "<table border=\"1\" class=\"dataframe\">\n",
       "  <thead>\n",
       "    <tr style=\"text-align: right;\">\n",
       "      <th></th>\n",
       "      <th>Year</th>\n",
       "      <th>Year ending</th>\n",
       "      <th>Police Service Area</th>\n",
       "      <th>Local Government Area</th>\n",
       "      <th>Offence Division</th>\n",
       "      <th>Offence Subdivision</th>\n",
       "      <th>Offence Subgroup</th>\n",
       "      <th>Offence Count</th>\n",
       "      <th>PSA Rate per 100,000 population</th>\n",
       "      <th>LGA Rate per 100,000 population</th>\n",
       "    </tr>\n",
       "  </thead>\n",
       "  <tbody>\n",
       "    <tr>\n",
       "      <th>0</th>\n",
       "      <td>2020</td>\n",
       "      <td>December</td>\n",
       "      <td>Ballarat</td>\n",
       "      <td>Ballarat</td>\n",
       "      <td>A Crimes against the person</td>\n",
       "      <td>A10 Homicide and related offences</td>\n",
       "      <td>A10 Homicide and related offences</td>\n",
       "      <td>2</td>\n",
       "      <td>1.681350</td>\n",
       "      <td>1.794160</td>\n",
       "    </tr>\n",
       "    <tr>\n",
       "      <th>1</th>\n",
       "      <td>2020</td>\n",
       "      <td>December</td>\n",
       "      <td>Ballarat</td>\n",
       "      <td>Ballarat</td>\n",
       "      <td>A Crimes against the person</td>\n",
       "      <td>A20 Assault and related offences</td>\n",
       "      <td>A211 FV Serious assault</td>\n",
       "      <td>146</td>\n",
       "      <td>122.738528</td>\n",
       "      <td>130.973665</td>\n",
       "    </tr>\n",
       "    <tr>\n",
       "      <th>2</th>\n",
       "      <td>2020</td>\n",
       "      <td>December</td>\n",
       "      <td>Ballarat</td>\n",
       "      <td>Ballarat</td>\n",
       "      <td>A Crimes against the person</td>\n",
       "      <td>A20 Assault and related offences</td>\n",
       "      <td>A212 Non-FV Serious assault</td>\n",
       "      <td>128</td>\n",
       "      <td>107.606381</td>\n",
       "      <td>114.826227</td>\n",
       "    </tr>\n",
       "    <tr>\n",
       "      <th>3</th>\n",
       "      <td>2020</td>\n",
       "      <td>December</td>\n",
       "      <td>Ballarat</td>\n",
       "      <td>Ballarat</td>\n",
       "      <td>A Crimes against the person</td>\n",
       "      <td>A20 Assault and related offences</td>\n",
       "      <td>A22 Assault police, emergency services or othe...</td>\n",
       "      <td>51</td>\n",
       "      <td>42.874417</td>\n",
       "      <td>45.751075</td>\n",
       "    </tr>\n",
       "    <tr>\n",
       "      <th>4</th>\n",
       "      <td>2020</td>\n",
       "      <td>December</td>\n",
       "      <td>Ballarat</td>\n",
       "      <td>Ballarat</td>\n",
       "      <td>A Crimes against the person</td>\n",
       "      <td>A20 Assault and related offences</td>\n",
       "      <td>A231 FV Common assault</td>\n",
       "      <td>298</td>\n",
       "      <td>250.521106</td>\n",
       "      <td>267.329809</td>\n",
       "    </tr>\n",
       "  </tbody>\n",
       "</table>\n",
       "</div>"
      ],
      "text/plain": [
       "   Year Year ending Police Service Area Local Government Area  \\\n",
       "0  2020    December            Ballarat              Ballarat   \n",
       "1  2020    December            Ballarat              Ballarat   \n",
       "2  2020    December            Ballarat              Ballarat   \n",
       "3  2020    December            Ballarat              Ballarat   \n",
       "4  2020    December            Ballarat              Ballarat   \n",
       "\n",
       "              Offence Division                Offence Subdivision  \\\n",
       "0  A Crimes against the person  A10 Homicide and related offences   \n",
       "1  A Crimes against the person   A20 Assault and related offences   \n",
       "2  A Crimes against the person   A20 Assault and related offences   \n",
       "3  A Crimes against the person   A20 Assault and related offences   \n",
       "4  A Crimes against the person   A20 Assault and related offences   \n",
       "\n",
       "                                    Offence Subgroup  Offence Count  \\\n",
       "0                  A10 Homicide and related offences              2   \n",
       "1                            A211 FV Serious assault            146   \n",
       "2                        A212 Non-FV Serious assault            128   \n",
       "3  A22 Assault police, emergency services or othe...             51   \n",
       "4                             A231 FV Common assault            298   \n",
       "\n",
       "   PSA Rate per 100,000 population  LGA Rate per 100,000 population  \n",
       "0                         1.681350                         1.794160  \n",
       "1                       122.738528                       130.973665  \n",
       "2                       107.606381                       114.826227  \n",
       "3                        42.874417                        45.751075  \n",
       "4                       250.521106                       267.329809  "
      ]
     },
     "execution_count": 4,
     "metadata": {},
     "output_type": "execute_result"
    }
   ],
   "source": [
    "crim_rate.head()"
   ]
  },
  {
   "cell_type": "code",
   "execution_count": 17,
   "id": "logical-pitch",
   "metadata": {},
   "outputs": [
    {
     "data": {
      "text/plain": [
       "C Drug offences                          4000\n",
       "F Other offences                         4147\n",
       "E Justice procedures offences            6023\n",
       "D Public order and security offences     8791\n",
       "A Crimes against the person             14767\n",
       "B Property and deception offences       15149\n",
       "Name: Offence Division, dtype: int64"
      ]
     },
     "execution_count": 17,
     "metadata": {},
     "output_type": "execute_result"
    }
   ],
   "source": [
    "# Top Offences\n",
    "crim_rate[\"Offence Division\"].value_counts().sort_values()"
   ]
  },
  {
   "cell_type": "code",
   "execution_count": 16,
   "id": "interior-extraction",
   "metadata": {},
   "outputs": [
    {
     "data": {
      "text/plain": [
       "Offence Division\n",
       "F Other offences                          53898\n",
       "C Drug offences                          280887\n",
       "D Public order and security offences     349382\n",
       "E Justice procedures offences            576005\n",
       "A Crimes against the person              719026\n",
       "B Property and deception offences       2856201\n",
       "Name: Offence Count, dtype: int64"
      ]
     },
     "execution_count": 16,
     "metadata": {},
     "output_type": "execute_result"
    }
   ],
   "source": [
    "crim_rate.groupby([\"Offence Division\"])[\"Offence Count\"].sum().sort_values()"
   ]
  },
  {
   "cell_type": "code",
   "execution_count": 32,
   "id": "designing-failing",
   "metadata": {},
   "outputs": [
    {
     "data": {
      "text/plain": [
       "<AxesSubplot:xlabel='Offence Division'>"
      ]
     },
     "execution_count": 32,
     "metadata": {},
     "output_type": "execute_result"
    },
    {
     "data": {
      "image/png": "[encoded data removed]",
      "text/plain": [
       "<Figure size 432x288 with 1 Axes>"
      ]
     },
     "metadata": {
      "needs_background": "light"
     },
     "output_type": "display_data"
    }
   ],
   "source": [
    "pd.crosstab(crim_rate[\"Offence Division\"],crim_rate[\"Year\"]).plot.bar()"
   ]
  },
  {
   "cell_type": "code",
   "execution_count": 34,
   "id": "crucial-bangkok",
   "metadata": {},
   "outputs": [
    {
     "data": {
      "text/plain": [
       "<AxesSubplot:xlabel='Offence Division'>"
      ]
     },
     "execution_count": 34,
     "metadata": {},
     "output_type": "execute_result"
    },
    {
     "data": {
      "image/png": "[encoded data removed]",
      "text/plain": [
       "<Figure size 432x288 with 1 Axes>"
      ]
     },
     "metadata": {
      "needs_background": "light"
     },
     "output_type": "display_data"
    }
   ],
   "source": [
    "pd.pivot_table(crim_rate, values = 'Offence Count', index = 'Offence Division',\n",
    "               columns = 'Year',aggfunc ='sum').plot.bar()"
   ]
  },
  {
   "cell_type": "code",
   "execution_count": 14,
   "id": "polish-metro",
   "metadata": {},
   "outputs": [
    {
     "name": "stderr",
     "output_type": "stream",
     "text": [
      "/home/danph/anaconda3/envs/pysal-workshop/lib/python3.7/site-packages/ipykernel_launcher.py:2: FutureWarning: Indexing with multiple keys (implicitly converted to a tuple of keys) will be deprecated, use a list instead.\n",
      "  \n"
     ]
    },
    {
     "data": {
      "text/html": [
       "<div>\n",
       "<style scoped>\n",
       "    .dataframe tbody tr th:only-of-type {\n",
       "        vertical-align: middle;\n",
       "    }\n",
       "\n",
       "    .dataframe tbody tr th {\n",
       "        vertical-align: top;\n",
       "    }\n",
       "\n",
       "    .dataframe thead th {\n",
       "        text-align: right;\n",
       "    }\n",
       "</style>\n",
       "<table border=\"1\" class=\"dataframe\">\n",
       "  <thead>\n",
       "    <tr style=\"text-align: right;\">\n",
       "      <th></th>\n",
       "      <th>Offence Count</th>\n",
       "      <th>PSA Rate per 100,000 population</th>\n",
       "    </tr>\n",
       "    <tr>\n",
       "      <th>Local Government Area</th>\n",
       "      <th></th>\n",
       "      <th></th>\n",
       "    </tr>\n",
       "  </thead>\n",
       "  <tbody>\n",
       "    <tr>\n",
       "      <th>Melbourne</th>\n",
       "      <td>347626</td>\n",
       "      <td>250015.981097</td>\n",
       "    </tr>\n",
       "    <tr>\n",
       "      <th>Latrobe</th>\n",
       "      <td>123836</td>\n",
       "      <td>165708.261891</td>\n",
       "    </tr>\n",
       "    <tr>\n",
       "      <th>Yarra</th>\n",
       "      <td>126970</td>\n",
       "      <td>138922.413687</td>\n",
       "    </tr>\n",
       "    <tr>\n",
       "      <th>Greater Shepparton</th>\n",
       "      <td>76445</td>\n",
       "      <td>117978.569354</td>\n",
       "    </tr>\n",
       "    <tr>\n",
       "      <th>Mildura</th>\n",
       "      <td>63009</td>\n",
       "      <td>115950.061683</td>\n",
       "    </tr>\n",
       "    <tr>\n",
       "      <th>Port Phillip</th>\n",
       "      <td>123058</td>\n",
       "      <td>114317.911883</td>\n",
       "    </tr>\n",
       "    <tr>\n",
       "      <th>Greater Dandenong</th>\n",
       "      <td>175736</td>\n",
       "      <td>111514.354557</td>\n",
       "    </tr>\n",
       "    <tr>\n",
       "      <th>Frankston</th>\n",
       "      <td>144684</td>\n",
       "      <td>104796.456796</td>\n",
       "    </tr>\n",
       "    <tr>\n",
       "      <th>Maribyrnong</th>\n",
       "      <td>86641</td>\n",
       "      <td>101767.083373</td>\n",
       "    </tr>\n",
       "    <tr>\n",
       "      <th>Ballarat</th>\n",
       "      <td>106598</td>\n",
       "      <td>96875.120508</td>\n",
       "    </tr>\n",
       "    <tr>\n",
       "      <th>Wellington</th>\n",
       "      <td>40701</td>\n",
       "      <td>93702.182128</td>\n",
       "    </tr>\n",
       "    <tr>\n",
       "      <th>Hume</th>\n",
       "      <td>190833</td>\n",
       "      <td>92793.418231</td>\n",
       "    </tr>\n",
       "    <tr>\n",
       "      <th>Stonnington</th>\n",
       "      <td>101799</td>\n",
       "      <td>92697.264054</td>\n",
       "    </tr>\n",
       "    <tr>\n",
       "      <th>Brimbank</th>\n",
       "      <td>186650</td>\n",
       "      <td>92385.314102</td>\n",
       "    </tr>\n",
       "    <tr>\n",
       "      <th>Darebin</th>\n",
       "      <td>142174</td>\n",
       "      <td>91989.145608</td>\n",
       "    </tr>\n",
       "    <tr>\n",
       "      <th>East Gippsland</th>\n",
       "      <td>41034</td>\n",
       "      <td>90288.509720</td>\n",
       "    </tr>\n",
       "    <tr>\n",
       "      <th>Campaspe</th>\n",
       "      <td>32299</td>\n",
       "      <td>86281.373640</td>\n",
       "    </tr>\n",
       "    <tr>\n",
       "      <th>Horsham</th>\n",
       "      <td>24530</td>\n",
       "      <td>83075.174649</td>\n",
       "    </tr>\n",
       "    <tr>\n",
       "      <th>Greater Bendigo</th>\n",
       "      <td>92774</td>\n",
       "      <td>83050.513803</td>\n",
       "    </tr>\n",
       "    <tr>\n",
       "      <th>Greater Geelong</th>\n",
       "      <td>197915</td>\n",
       "      <td>81767.472860</td>\n",
       "    </tr>\n",
       "  </tbody>\n",
       "</table>\n",
       "</div>"
      ],
      "text/plain": [
       "                       Offence Count  PSA Rate per 100,000 population\n",
       "Local Government Area                                                \n",
       "Melbourne                     347626                    250015.981097\n",
       "Latrobe                       123836                    165708.261891\n",
       "Yarra                         126970                    138922.413687\n",
       "Greater Shepparton             76445                    117978.569354\n",
       "Mildura                        63009                    115950.061683\n",
       "Port Phillip                  123058                    114317.911883\n",
       "Greater Dandenong             175736                    111514.354557\n",
       "Frankston                     144684                    104796.456796\n",
       "Maribyrnong                    86641                    101767.083373\n",
       "Ballarat                      106598                     96875.120508\n",
       "Wellington                     40701                     93702.182128\n",
       "Hume                          190833                     92793.418231\n",
       "Stonnington                   101799                     92697.264054\n",
       "Brimbank                      186650                     92385.314102\n",
       "Darebin                       142174                     91989.145608\n",
       "East Gippsland                 41034                     90288.509720\n",
       "Campaspe                       32299                     86281.373640\n",
       "Horsham                        24530                     83075.174649\n",
       "Greater Bendigo                92774                     83050.513803\n",
       "Greater Geelong               197915                     81767.472860"
      ]
     },
     "execution_count": 14,
     "metadata": {},
     "output_type": "execute_result"
    }
   ],
   "source": [
    "# Top 20 LGA\n",
    "top_lgas = crim_rate.groupby([\"Local Government Area\"])[\"Offence Count\", \n",
    "                                             \"PSA Rate per 100,000 population\"].sum()\n",
    "\n",
    "top_lgas.sort_values(by=\"PSA Rate per 100,000 population\", ascending=False).head(20)"
   ]
  },
  {
   "cell_type": "code",
   "execution_count": null,
   "id": "patient-merchandise",
   "metadata": {},
   "outputs": [],
   "source": []
  }
 ],
 "metadata": {
  "kernelspec": {
   "display_name": "Python 3",
   "language": "python",
   "name": "python3"
  },
  "language_info": {
   "codemirror_mode": {
    "name": "ipython",
    "version": 3
   },
   "file_extension": ".py",
   "mimetype": "text/x-python",
   "name": "python",
   "nbconvert_exporter": "python",
   "pygments_lexer": "ipython3",
   "version": "3.7.10"
  }
 },
 "nbformat": 4,
 "nbformat_minor": 5
}
