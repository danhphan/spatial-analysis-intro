{
 "cells": [
  {
   "cell_type": "code",
   "execution_count": 1,
   "id": "greek-isolation",
   "metadata": {},
   "outputs": [],
   "source": [
    "import numpy as np\n",
    "import pandas as pd\n",
    "import matplotlib.pyplot as plt"
   ]
  },
  {
   "cell_type": "markdown",
   "id": "informational-junior",
   "metadata": {},
   "source": [
    "### Read data"
   ]
  },
  {
   "cell_type": "code",
   "execution_count": 17,
   "id": "liable-reconstruction",
   "metadata": {},
   "outputs": [
    {
     "data": {
      "text/plain": [
       "(317503, 9)"
      ]
     },
     "execution_count": 17,
     "metadata": {},
     "output_type": "execute_result"
    }
   ],
   "source": [
    "crim_offence = pd.read_csv(\"../data/raw/crim_offence.csv\")\n",
    "crim_offence.shape"
   ]
  },
  {
   "cell_type": "code",
   "execution_count": 16,
   "id": "violent-virtue",
   "metadata": {},
   "outputs": [
    {
     "data": {
      "text/html": [
       "<div>\n",
       "<style scoped>\n",
       "    .dataframe tbody tr th:only-of-type {\n",
       "        vertical-align: middle;\n",
       "    }\n",
       "\n",
       "    .dataframe tbody tr th {\n",
       "        vertical-align: top;\n",
       "    }\n",
       "\n",
       "    .dataframe thead th {\n",
       "        text-align: right;\n",
       "    }\n",
       "</style>\n",
       "<table border=\"1\" class=\"dataframe\">\n",
       "  <thead>\n",
       "    <tr style=\"text-align: right;\">\n",
       "      <th></th>\n",
       "      <th>Year</th>\n",
       "      <th>Year ending</th>\n",
       "      <th>Local Government Area</th>\n",
       "      <th>Postcode</th>\n",
       "      <th>Suburb/Town Name</th>\n",
       "      <th>Offence Division</th>\n",
       "      <th>Offence Subdivision</th>\n",
       "      <th>Offence Subgroup</th>\n",
       "      <th>Incidents Recorded</th>\n",
       "    </tr>\n",
       "  </thead>\n",
       "  <tbody>\n",
       "    <tr>\n",
       "      <th>0</th>\n",
       "      <td>2020</td>\n",
       "      <td>December</td>\n",
       "      <td>Alpine</td>\n",
       "      <td>3691</td>\n",
       "      <td>Dederang</td>\n",
       "      <td>A Crimes against the person</td>\n",
       "      <td>A20 Assault and related offences</td>\n",
       "      <td>A211 FV Serious assault</td>\n",
       "      <td>1</td>\n",
       "    </tr>\n",
       "    <tr>\n",
       "      <th>1</th>\n",
       "      <td>2020</td>\n",
       "      <td>December</td>\n",
       "      <td>Alpine</td>\n",
       "      <td>3691</td>\n",
       "      <td>Dederang</td>\n",
       "      <td>B Property and deception offences</td>\n",
       "      <td>B40 Theft</td>\n",
       "      <td>B41 Motor vehicle theft</td>\n",
       "      <td>1</td>\n",
       "    </tr>\n",
       "    <tr>\n",
       "      <th>2</th>\n",
       "      <td>2020</td>\n",
       "      <td>December</td>\n",
       "      <td>Alpine</td>\n",
       "      <td>3691</td>\n",
       "      <td>Glen Creek</td>\n",
       "      <td>C Drug offences</td>\n",
       "      <td>C30 Drug use and possession</td>\n",
       "      <td>C32 Drug possession</td>\n",
       "      <td>1</td>\n",
       "    </tr>\n",
       "    <tr>\n",
       "      <th>3</th>\n",
       "      <td>2020</td>\n",
       "      <td>December</td>\n",
       "      <td>Alpine</td>\n",
       "      <td>3691</td>\n",
       "      <td>Gundowring</td>\n",
       "      <td>C Drug offences</td>\n",
       "      <td>C10 Drug dealing and trafficking</td>\n",
       "      <td>C12 Drug trafficking</td>\n",
       "      <td>1</td>\n",
       "    </tr>\n",
       "    <tr>\n",
       "      <th>4</th>\n",
       "      <td>2020</td>\n",
       "      <td>December</td>\n",
       "      <td>Alpine</td>\n",
       "      <td>3691</td>\n",
       "      <td>Gundowring</td>\n",
       "      <td>E Justice procedures offences</td>\n",
       "      <td>E10 Justice procedures</td>\n",
       "      <td>E13 Resist or hinder officer</td>\n",
       "      <td>1</td>\n",
       "    </tr>\n",
       "  </tbody>\n",
       "</table>\n",
       "</div>"
      ],
      "text/plain": [
       "   Year Year ending Local Government Area  Postcode Suburb/Town Name  \\\n",
       "0  2020    December                Alpine      3691         Dederang   \n",
       "1  2020    December                Alpine      3691         Dederang   \n",
       "2  2020    December                Alpine      3691       Glen Creek   \n",
       "3  2020    December                Alpine      3691       Gundowring   \n",
       "4  2020    December                Alpine      3691       Gundowring   \n",
       "\n",
       "                    Offence Division               Offence Subdivision  \\\n",
       "0        A Crimes against the person  A20 Assault and related offences   \n",
       "1  B Property and deception offences                         B40 Theft   \n",
       "2                    C Drug offences       C30 Drug use and possession   \n",
       "3                    C Drug offences  C10 Drug dealing and trafficking   \n",
       "4      E Justice procedures offences            E10 Justice procedures   \n",
       "\n",
       "               Offence Subgroup  Incidents Recorded  \n",
       "0       A211 FV Serious assault                   1  \n",
       "1       B41 Motor vehicle theft                   1  \n",
       "2           C32 Drug possession                   1  \n",
       "3          C12 Drug trafficking                   1  \n",
       "4  E13 Resist or hinder officer                   1  "
      ]
     },
     "execution_count": 16,
     "metadata": {},
     "output_type": "execute_result"
    }
   ],
   "source": [
    "crim_offence.head()"
   ]
  },
  {
   "cell_type": "code",
   "execution_count": 30,
   "id": "contemporary-danger",
   "metadata": {},
   "outputs": [
    {
     "data": {
      "text/plain": [
       "(697, 2827)"
      ]
     },
     "execution_count": 30,
     "metadata": {},
     "output_type": "execute_result"
    }
   ],
   "source": [
    "# number of postcodes and suburbs\n",
    "crim_offence.Postcode.nunique(), crim_offence['Suburb/Town Name'].nunique()"
   ]
  },
  {
   "cell_type": "code",
   "execution_count": 18,
   "id": "extra-nashville",
   "metadata": {},
   "outputs": [
    {
     "data": {
      "text/plain": [
       "F Other offences                          6542\n",
       "C Drug offences                          22000\n",
       "E Justice procedures offences            32591\n",
       "D Public order and security offences     38226\n",
       "A Crimes against the person              86470\n",
       "B Property and deception offences       131674\n",
       "Name: Offence Division, dtype: int64"
      ]
     },
     "execution_count": 18,
     "metadata": {},
     "output_type": "execute_result"
    }
   ],
   "source": [
    "# Top Offences\n",
    "crim_offence[\"Offence Division\"].value_counts().sort_values()"
   ]
  },
  {
   "cell_type": "code",
   "execution_count": 19,
   "id": "mental-carolina",
   "metadata": {},
   "outputs": [
    {
     "data": {
      "text/plain": [
       "Offence Division\n",
       "F Other offences                          45141\n",
       "C Drug offences                          147102\n",
       "D Public order and security offences     244248\n",
       "E Justice procedures offences            360358\n",
       "A Crimes against the person              547379\n",
       "B Property and deception offences       2337497\n",
       "Name: Incidents Recorded, dtype: int64"
      ]
     },
     "execution_count": 19,
     "metadata": {},
     "output_type": "execute_result"
    }
   ],
   "source": [
    "crim_offence.groupby([\"Offence Division\"])[\"Incidents Recorded\"].sum().sort_values()"
   ]
  },
  {
   "cell_type": "code",
   "execution_count": 20,
   "id": "covered-dynamics",
   "metadata": {},
   "outputs": [
    {
     "data": {
      "text/plain": [
       "<AxesSubplot:xlabel='Offence Division'>"
      ]
     },
     "execution_count": 20,
     "metadata": {},
     "output_type": "execute_result"
    },
    {
     "data": {
      "image/png": "[encoded data removed]",
      "text/plain": [
       "<Figure size 432x288 with 1 Axes>"
      ]
     },
     "metadata": {
      "needs_background": "light"
     },
     "output_type": "display_data"
    }
   ],
   "source": [
    "pd.crosstab(crim_offence[\"Offence Division\"],crim_offence[\"Year\"]).plot.bar()"
   ]
  },
  {
   "cell_type": "code",
   "execution_count": 21,
   "id": "advanced-parcel",
   "metadata": {},
   "outputs": [
    {
     "data": {
      "text/plain": [
       "<AxesSubplot:xlabel='Offence Division'>"
      ]
     },
     "execution_count": 21,
     "metadata": {},
     "output_type": "execute_result"
    },
    {
     "data": {
      "image/png": "[encoded data removed]",
      "text/plain": [
       "<Figure size 432x288 with 1 Axes>"
      ]
     },
     "metadata": {
      "needs_background": "light"
     },
     "output_type": "display_data"
    }
   ],
   "source": [
    "pd.pivot_table(crim_offence, values = 'Incidents Recorded', index = 'Offence Division',\n",
    "               columns = 'Year',aggfunc ='sum').plot.bar()"
   ]
  },
  {
   "cell_type": "code",
   "execution_count": 26,
   "id": "logical-repeat",
   "metadata": {},
   "outputs": [
    {
     "data": {
      "text/plain": [
       "Local Government Area\n",
       "Melbourne               257085\n",
       "Greater Geelong         154874\n",
       "Brimbank                147067\n",
       "Casey                   145986\n",
       "Hume                    143485\n",
       "Greater Dandenong       133762\n",
       "Wyndham                 113106\n",
       "Darebin                 111467\n",
       "Whittlesea              109631\n",
       "Frankston               108464\n",
       "Moreland                105344\n",
       "Yarra                   102776\n",
       "Port Phillip             95016\n",
       "Latrobe                  88083\n",
       "Ballarat                 83530\n",
       "Mornington Peninsula     80182\n",
       "Melton                   80086\n",
       "Stonnington              80015\n",
       "Kingston                 79201\n",
       "Monash                   78592\n",
       "Name: Incidents Recorded, dtype: int64"
      ]
     },
     "execution_count": 26,
     "metadata": {},
     "output_type": "execute_result"
    }
   ],
   "source": [
    "# Top 20 LGA\n",
    "top_lgas = crim_offence.groupby([\"Local Government Area\"])[\"Incidents Recorded\"].sum()\n",
    "top_lgas.sort_values(ascending=False).head(20)"
   ]
  },
  {
   "cell_type": "code",
   "execution_count": 27,
   "id": "alleged-injection",
   "metadata": {},
   "outputs": [
    {
     "data": {
      "text/plain": [
       "Postcode\n",
       "3000    146050\n",
       "3175     77110\n",
       "3199     62333\n",
       "3030     53190\n",
       "3350     52703\n",
       "3020     48793\n",
       "3977     47426\n",
       "3029     45918\n",
       "3072     40185\n",
       "3630     39679\n",
       "3064     39132\n",
       "3500     39120\n",
       "3021     38841\n",
       "3550     38562\n",
       "3182     36751\n",
       "3121     35559\n",
       "3047     33212\n",
       "3073     32532\n",
       "3023     32505\n",
       "3214     32353\n",
       "Name: Incidents Recorded, dtype: int64"
      ]
     },
     "execution_count": 27,
     "metadata": {},
     "output_type": "execute_result"
    }
   ],
   "source": [
    "# Top 20 postcodes\n",
    "top_lgas = crim_offence.groupby([\"Postcode\"])[\"Incidents Recorded\"].sum()\n",
    "top_lgas.sort_values(ascending=False).head(20)"
   ]
  },
  {
   "cell_type": "markdown",
   "id": "injured-government",
   "metadata": {},
   "source": [
    "### Save number of incidents in each postcode"
   ]
  },
  {
   "cell_type": "code",
   "execution_count": 31,
   "id": "protecting-enclosure",
   "metadata": {},
   "outputs": [
    {
     "data": {
      "text/html": [
       "<div>\n",
       "<style scoped>\n",
       "    .dataframe tbody tr th:only-of-type {\n",
       "        vertical-align: middle;\n",
       "    }\n",
       "\n",
       "    .dataframe tbody tr th {\n",
       "        vertical-align: top;\n",
       "    }\n",
       "\n",
       "    .dataframe thead th {\n",
       "        text-align: right;\n",
       "    }\n",
       "</style>\n",
       "<table border=\"1\" class=\"dataframe\">\n",
       "  <thead>\n",
       "    <tr style=\"text-align: right;\">\n",
       "      <th></th>\n",
       "      <th>Year</th>\n",
       "      <th>Year ending</th>\n",
       "      <th>Local Government Area</th>\n",
       "      <th>Postcode</th>\n",
       "      <th>Suburb/Town Name</th>\n",
       "      <th>Offence Division</th>\n",
       "      <th>Offence Subdivision</th>\n",
       "      <th>Offence Subgroup</th>\n",
       "      <th>Incidents Recorded</th>\n",
       "    </tr>\n",
       "  </thead>\n",
       "  <tbody>\n",
       "    <tr>\n",
       "      <th>0</th>\n",
       "      <td>2020</td>\n",
       "      <td>December</td>\n",
       "      <td>Alpine</td>\n",
       "      <td>3691</td>\n",
       "      <td>Dederang</td>\n",
       "      <td>A Crimes against the person</td>\n",
       "      <td>A20 Assault and related offences</td>\n",
       "      <td>A211 FV Serious assault</td>\n",
       "      <td>1</td>\n",
       "    </tr>\n",
       "    <tr>\n",
       "      <th>1</th>\n",
       "      <td>2020</td>\n",
       "      <td>December</td>\n",
       "      <td>Alpine</td>\n",
       "      <td>3691</td>\n",
       "      <td>Dederang</td>\n",
       "      <td>B Property and deception offences</td>\n",
       "      <td>B40 Theft</td>\n",
       "      <td>B41 Motor vehicle theft</td>\n",
       "      <td>1</td>\n",
       "    </tr>\n",
       "    <tr>\n",
       "      <th>2</th>\n",
       "      <td>2020</td>\n",
       "      <td>December</td>\n",
       "      <td>Alpine</td>\n",
       "      <td>3691</td>\n",
       "      <td>Glen Creek</td>\n",
       "      <td>C Drug offences</td>\n",
       "      <td>C30 Drug use and possession</td>\n",
       "      <td>C32 Drug possession</td>\n",
       "      <td>1</td>\n",
       "    </tr>\n",
       "    <tr>\n",
       "      <th>3</th>\n",
       "      <td>2020</td>\n",
       "      <td>December</td>\n",
       "      <td>Alpine</td>\n",
       "      <td>3691</td>\n",
       "      <td>Gundowring</td>\n",
       "      <td>C Drug offences</td>\n",
       "      <td>C10 Drug dealing and trafficking</td>\n",
       "      <td>C12 Drug trafficking</td>\n",
       "      <td>1</td>\n",
       "    </tr>\n",
       "    <tr>\n",
       "      <th>4</th>\n",
       "      <td>2020</td>\n",
       "      <td>December</td>\n",
       "      <td>Alpine</td>\n",
       "      <td>3691</td>\n",
       "      <td>Gundowring</td>\n",
       "      <td>E Justice procedures offences</td>\n",
       "      <td>E10 Justice procedures</td>\n",
       "      <td>E13 Resist or hinder officer</td>\n",
       "      <td>1</td>\n",
       "    </tr>\n",
       "  </tbody>\n",
       "</table>\n",
       "</div>"
      ],
      "text/plain": [
       "   Year Year ending Local Government Area  Postcode Suburb/Town Name  \\\n",
       "0  2020    December                Alpine      3691         Dederang   \n",
       "1  2020    December                Alpine      3691         Dederang   \n",
       "2  2020    December                Alpine      3691       Glen Creek   \n",
       "3  2020    December                Alpine      3691       Gundowring   \n",
       "4  2020    December                Alpine      3691       Gundowring   \n",
       "\n",
       "                    Offence Division               Offence Subdivision  \\\n",
       "0        A Crimes against the person  A20 Assault and related offences   \n",
       "1  B Property and deception offences                         B40 Theft   \n",
       "2                    C Drug offences       C30 Drug use and possession   \n",
       "3                    C Drug offences  C10 Drug dealing and trafficking   \n",
       "4      E Justice procedures offences            E10 Justice procedures   \n",
       "\n",
       "               Offence Subgroup  Incidents Recorded  \n",
       "0       A211 FV Serious assault                   1  \n",
       "1       B41 Motor vehicle theft                   1  \n",
       "2           C32 Drug possession                   1  \n",
       "3          C12 Drug trafficking                   1  \n",
       "4  E13 Resist or hinder officer                   1  "
      ]
     },
     "execution_count": 31,
     "metadata": {},
     "output_type": "execute_result"
    }
   ],
   "source": []
  },
  {
   "cell_type": "code",
   "execution_count": 33,
   "id": "interested-sudan",
   "metadata": {},
   "outputs": [],
   "source": [
    "crime_poa = crim_offence.groupby(['Year', 'Local Government Area', 'Postcode'])['Incidents Recorded'].sum()"
   ]
  },
  {
   "cell_type": "code",
   "execution_count": 35,
   "id": "perfect-preserve",
   "metadata": {},
   "outputs": [],
   "source": [
    "crime_poa = crime_poa.reset_index(name=\"Total Incidents\")"
   ]
  },
  {
   "cell_type": "code",
   "execution_count": 36,
   "id": "roman-genius",
   "metadata": {},
   "outputs": [
    {
     "data": {
      "text/html": [
       "<div>\n",
       "<style scoped>\n",
       "    .dataframe tbody tr th:only-of-type {\n",
       "        vertical-align: middle;\n",
       "    }\n",
       "\n",
       "    .dataframe tbody tr th {\n",
       "        vertical-align: top;\n",
       "    }\n",
       "\n",
       "    .dataframe thead th {\n",
       "        text-align: right;\n",
       "    }\n",
       "</style>\n",
       "<table border=\"1\" class=\"dataframe\">\n",
       "  <thead>\n",
       "    <tr style=\"text-align: right;\">\n",
       "      <th></th>\n",
       "      <th>Year</th>\n",
       "      <th>Local Government Area</th>\n",
       "      <th>Postcode</th>\n",
       "      <th>Total Incidents</th>\n",
       "    </tr>\n",
       "  </thead>\n",
       "  <tbody>\n",
       "    <tr>\n",
       "      <th>0</th>\n",
       "      <td>2011</td>\n",
       "      <td>Alpine</td>\n",
       "      <td>3691</td>\n",
       "      <td>5</td>\n",
       "    </tr>\n",
       "    <tr>\n",
       "      <th>1</th>\n",
       "      <td>2011</td>\n",
       "      <td>Alpine</td>\n",
       "      <td>3697</td>\n",
       "      <td>4</td>\n",
       "    </tr>\n",
       "    <tr>\n",
       "      <th>2</th>\n",
       "      <td>2011</td>\n",
       "      <td>Alpine</td>\n",
       "      <td>3698</td>\n",
       "      <td>3</td>\n",
       "    </tr>\n",
       "    <tr>\n",
       "      <th>3</th>\n",
       "      <td>2011</td>\n",
       "      <td>Alpine</td>\n",
       "      <td>3699</td>\n",
       "      <td>13</td>\n",
       "    </tr>\n",
       "    <tr>\n",
       "      <th>4</th>\n",
       "      <td>2011</td>\n",
       "      <td>Alpine</td>\n",
       "      <td>3737</td>\n",
       "      <td>153</td>\n",
       "    </tr>\n",
       "    <tr>\n",
       "      <th>...</th>\n",
       "      <td>...</td>\n",
       "      <td>...</td>\n",
       "      <td>...</td>\n",
       "      <td>...</td>\n",
       "    </tr>\n",
       "    <tr>\n",
       "      <th>8996</th>\n",
       "      <td>2020</td>\n",
       "      <td>Yarriambiack</td>\n",
       "      <td>3485</td>\n",
       "      <td>2</td>\n",
       "    </tr>\n",
       "    <tr>\n",
       "      <th>8997</th>\n",
       "      <td>2020</td>\n",
       "      <td>Yarriambiack</td>\n",
       "      <td>3487</td>\n",
       "      <td>3</td>\n",
       "    </tr>\n",
       "    <tr>\n",
       "      <th>8998</th>\n",
       "      <td>2020</td>\n",
       "      <td>Yarriambiack</td>\n",
       "      <td>3488</td>\n",
       "      <td>3</td>\n",
       "    </tr>\n",
       "    <tr>\n",
       "      <th>8999</th>\n",
       "      <td>2020</td>\n",
       "      <td>Yarriambiack</td>\n",
       "      <td>3489</td>\n",
       "      <td>1</td>\n",
       "    </tr>\n",
       "    <tr>\n",
       "      <th>9000</th>\n",
       "      <td>2020</td>\n",
       "      <td>Yarriambiack</td>\n",
       "      <td>3491</td>\n",
       "      <td>8</td>\n",
       "    </tr>\n",
       "  </tbody>\n",
       "</table>\n",
       "<p>9001 rows × 4 columns</p>\n",
       "</div>"
      ],
      "text/plain": [
       "      Year Local Government Area  Postcode  Total Incidents\n",
       "0     2011                Alpine      3691                5\n",
       "1     2011                Alpine      3697                4\n",
       "2     2011                Alpine      3698                3\n",
       "3     2011                Alpine      3699               13\n",
       "4     2011                Alpine      3737              153\n",
       "...    ...                   ...       ...              ...\n",
       "8996  2020          Yarriambiack      3485                2\n",
       "8997  2020          Yarriambiack      3487                3\n",
       "8998  2020          Yarriambiack      3488                3\n",
       "8999  2020          Yarriambiack      3489                1\n",
       "9000  2020          Yarriambiack      3491                8\n",
       "\n",
       "[9001 rows x 4 columns]"
      ]
     },
     "execution_count": 36,
     "metadata": {},
     "output_type": "execute_result"
    }
   ],
   "source": [
    "crime_poa"
   ]
  },
  {
   "cell_type": "code",
   "execution_count": 38,
   "id": "sapphire-bracket",
   "metadata": {},
   "outputs": [],
   "source": [
    "crime_poa.to_csv(\"../data/processed/poa_crime.csv\", index=False)"
   ]
  },
  {
   "cell_type": "code",
   "execution_count": null,
   "id": "plain-louisiana",
   "metadata": {},
   "outputs": [],
   "source": []
  }
 ],
 "metadata": {
  "kernelspec": {
   "display_name": "Python 3",
   "language": "python",
   "name": "python3"
  },
  "language_info": {
   "codemirror_mode": {
    "name": "ipython",
    "version": 3
   },
   "file_extension": ".py",
   "mimetype": "text/x-python",
   "name": "python",
   "nbconvert_exporter": "python",
   "pygments_lexer": "ipython3",
   "version": "3.7.10"
  }
 },
 "nbformat": 4,
 "nbformat_minor": 5
}
