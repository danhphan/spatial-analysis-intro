{
 "cells": [
  {
   "cell_type": "markdown",
   "id": "identical-waterproof",
   "metadata": {},
   "source": [
    "## Spatial analysis with Geopandas"
   ]
  },
  {
   "cell_type": "markdown",
   "id": "activated-chart",
   "metadata": {},
   "source": [
    "This notebook analyses the criminal incidents in various postcodes in Victoria"
   ]
  },
  {
   "cell_type": "code",
   "execution_count": 6,
   "id": "talented-berlin",
   "metadata": {},
   "outputs": [],
   "source": [
    "import pandas as pd\n",
    "import geopandas as gpd"
   ]
  },
  {
   "cell_type": "markdown",
   "id": "lyric-manor",
   "metadata": {},
   "source": [
    "### Load data"
   ]
  },
  {
   "cell_type": "markdown",
   "id": "federal-spare",
   "metadata": {},
   "source": [
    "#### Get crime data by postcodes"
   ]
  },
  {
   "cell_type": "code",
   "execution_count": 7,
   "id": "formal-palestinian",
   "metadata": {},
   "outputs": [
    {
     "data": {
      "text/plain": [
       "(9001, 4)"
      ]
     },
     "execution_count": 7,
     "metadata": {},
     "output_type": "execute_result"
    }
   ],
   "source": [
    "crime = pd.read_csv(\"../data/processed/poa_crime.csv\")\n",
    "crime.shape"
   ]
  },
  {
   "cell_type": "code",
   "execution_count": 8,
   "id": "electrical-atlantic",
   "metadata": {},
   "outputs": [
    {
     "data": {
      "text/html": [
       "<div>\n",
       "<style scoped>\n",
       "    .dataframe tbody tr th:only-of-type {\n",
       "        vertical-align: middle;\n",
       "    }\n",
       "\n",
       "    .dataframe tbody tr th {\n",
       "        vertical-align: top;\n",
       "    }\n",
       "\n",
       "    .dataframe thead th {\n",
       "        text-align: right;\n",
       "    }\n",
       "</style>\n",
       "<table border=\"1\" class=\"dataframe\">\n",
       "  <thead>\n",
       "    <tr style=\"text-align: right;\">\n",
       "      <th></th>\n",
       "      <th>Year</th>\n",
       "      <th>Local Government Area</th>\n",
       "      <th>Postcode</th>\n",
       "      <th>Total Incidents</th>\n",
       "    </tr>\n",
       "  </thead>\n",
       "  <tbody>\n",
       "    <tr>\n",
       "      <th>0</th>\n",
       "      <td>2011</td>\n",
       "      <td>Alpine</td>\n",
       "      <td>3691</td>\n",
       "      <td>5</td>\n",
       "    </tr>\n",
       "    <tr>\n",
       "      <th>1</th>\n",
       "      <td>2011</td>\n",
       "      <td>Alpine</td>\n",
       "      <td>3697</td>\n",
       "      <td>4</td>\n",
       "    </tr>\n",
       "    <tr>\n",
       "      <th>2</th>\n",
       "      <td>2011</td>\n",
       "      <td>Alpine</td>\n",
       "      <td>3698</td>\n",
       "      <td>3</td>\n",
       "    </tr>\n",
       "    <tr>\n",
       "      <th>3</th>\n",
       "      <td>2011</td>\n",
       "      <td>Alpine</td>\n",
       "      <td>3699</td>\n",
       "      <td>13</td>\n",
       "    </tr>\n",
       "    <tr>\n",
       "      <th>4</th>\n",
       "      <td>2011</td>\n",
       "      <td>Alpine</td>\n",
       "      <td>3737</td>\n",
       "      <td>153</td>\n",
       "    </tr>\n",
       "  </tbody>\n",
       "</table>\n",
       "</div>"
      ],
      "text/plain": [
       "   Year Local Government Area  Postcode  Total Incidents\n",
       "0  2011                Alpine      3691                5\n",
       "1  2011                Alpine      3697                4\n",
       "2  2011                Alpine      3698                3\n",
       "3  2011                Alpine      3699               13\n",
       "4  2011                Alpine      3737              153"
      ]
     },
     "execution_count": 8,
     "metadata": {},
     "output_type": "execute_result"
    }
   ],
   "source": [
    "crime.head()"
   ]
  },
  {
   "cell_type": "code",
   "execution_count": 9,
   "id": "clinical-saturday",
   "metadata": {},
   "outputs": [
    {
     "data": {
      "text/plain": [
       "Year                      int64\n",
       "Local Government Area    object\n",
       "Postcode                  int64\n",
       "Total Incidents           int64\n",
       "dtype: object"
      ]
     },
     "execution_count": 9,
     "metadata": {},
     "output_type": "execute_result"
    }
   ],
   "source": [
    "crime.dtypes"
   ]
  },
  {
   "cell_type": "code",
   "execution_count": 10,
   "id": "weighted-thanksgiving",
   "metadata": {},
   "outputs": [],
   "source": [
    "crime.Postcode = crime.Postcode.astype(str)"
   ]
  },
  {
   "cell_type": "markdown",
   "id": "otherwise-plain",
   "metadata": {},
   "source": [
    "#### Get shapefile of postcodes in Victoria"
   ]
  },
  {
   "cell_type": "code",
   "execution_count": 11,
   "id": "false-machinery",
   "metadata": {},
   "outputs": [
    {
     "data": {
      "text/plain": [
       "(698, 4)"
      ]
     },
     "execution_count": 11,
     "metadata": {},
     "output_type": "execute_result"
    }
   ],
   "source": [
    "poa_gdf = gpd.read_file(\"../data/processed/vic_poa_shapefile.geojson\")\n",
    "poa_gdf.shape"
   ]
  },
  {
   "cell_type": "code",
   "execution_count": 12,
   "id": "understanding-checklist",
   "metadata": {},
   "outputs": [
    {
     "data": {
      "text/html": [
       "<div>\n",
       "<style scoped>\n",
       "    .dataframe tbody tr th:only-of-type {\n",
       "        vertical-align: middle;\n",
       "    }\n",
       "\n",
       "    .dataframe tbody tr th {\n",
       "        vertical-align: top;\n",
       "    }\n",
       "\n",
       "    .dataframe thead th {\n",
       "        text-align: right;\n",
       "    }\n",
       "</style>\n",
       "<table border=\"1\" class=\"dataframe\">\n",
       "  <thead>\n",
       "    <tr style=\"text-align: right;\">\n",
       "      <th></th>\n",
       "      <th>POA_CODE16</th>\n",
       "      <th>POA_NAME16</th>\n",
       "      <th>AREASQKM16</th>\n",
       "      <th>geometry</th>\n",
       "    </tr>\n",
       "  </thead>\n",
       "  <tbody>\n",
       "    <tr>\n",
       "      <th>0</th>\n",
       "      <td>3000</td>\n",
       "      <td>3000</td>\n",
       "      <td>3.1881</td>\n",
       "      <td>POLYGON ((144.96489 -37.80687, 144.96511 -37.8...</td>\n",
       "    </tr>\n",
       "    <tr>\n",
       "      <th>1</th>\n",
       "      <td>3002</td>\n",
       "      <td>3002</td>\n",
       "      <td>1.8557</td>\n",
       "      <td>POLYGON ((144.97395 -37.81332, 144.97362 -37.8...</td>\n",
       "    </tr>\n",
       "    <tr>\n",
       "      <th>2</th>\n",
       "      <td>3003</td>\n",
       "      <td>3003</td>\n",
       "      <td>6.5821</td>\n",
       "      <td>POLYGON ((144.90759 -37.80614, 144.90768 -37.8...</td>\n",
       "    </tr>\n",
       "    <tr>\n",
       "      <th>3</th>\n",
       "      <td>3004</td>\n",
       "      <td>3004</td>\n",
       "      <td>3.3164</td>\n",
       "      <td>POLYGON ((144.97109 -37.83513, 144.97169 -37.8...</td>\n",
       "    </tr>\n",
       "    <tr>\n",
       "      <th>4</th>\n",
       "      <td>3005</td>\n",
       "      <td>3005</td>\n",
       "      <td>0.1183</td>\n",
       "      <td>POLYGON ((144.95061 -37.82226, 144.95119 -37.8...</td>\n",
       "    </tr>\n",
       "  </tbody>\n",
       "</table>\n",
       "</div>"
      ],
      "text/plain": [
       "  POA_CODE16 POA_NAME16  AREASQKM16  \\\n",
       "0       3000       3000      3.1881   \n",
       "1       3002       3002      1.8557   \n",
       "2       3003       3003      6.5821   \n",
       "3       3004       3004      3.3164   \n",
       "4       3005       3005      0.1183   \n",
       "\n",
       "                                            geometry  \n",
       "0  POLYGON ((144.96489 -37.80687, 144.96511 -37.8...  \n",
       "1  POLYGON ((144.97395 -37.81332, 144.97362 -37.8...  \n",
       "2  POLYGON ((144.90759 -37.80614, 144.90768 -37.8...  \n",
       "3  POLYGON ((144.97109 -37.83513, 144.97169 -37.8...  \n",
       "4  POLYGON ((144.95061 -37.82226, 144.95119 -37.8...  "
      ]
     },
     "execution_count": 12,
     "metadata": {},
     "output_type": "execute_result"
    }
   ],
   "source": [
    "poa_gdf.head()"
   ]
  },
  {
   "cell_type": "code",
   "execution_count": 29,
   "id": "revolutionary-thomson",
   "metadata": {},
   "outputs": [
    {
     "data": {
      "text/plain": [
       "<Geographic 2D CRS: EPSG:4283>\n",
       "Name: GDA94\n",
       "Axis Info [ellipsoidal]:\n",
       "- Lat[north]: Geodetic latitude (degree)\n",
       "- Lon[east]: Geodetic longitude (degree)\n",
       "Area of Use:\n",
       "- name: Australia including Lord Howe Island, Macquarie Islands, Ashmore and Cartier Islands, Christmas Island, Cocos (Keeling) Islands, Norfolk Island. All onshore and offshore.\n",
       "- bounds: (93.41, -60.56, 173.35, -8.47)\n",
       "Datum: Geocentric Datum of Australia 1994\n",
       "- Ellipsoid: GRS 1980\n",
       "- Prime Meridian: Greenwich"
      ]
     },
     "execution_count": 29,
     "metadata": {},
     "output_type": "execute_result"
    }
   ],
   "source": [
    "poa_gdf.crs"
   ]
  },
  {
   "cell_type": "code",
   "execution_count": 14,
   "id": "working-optimization",
   "metadata": {},
   "outputs": [
    {
     "data": {
      "text/plain": [
       "POA_CODE16      object\n",
       "POA_NAME16      object\n",
       "AREASQKM16     float64\n",
       "geometry      geometry\n",
       "dtype: object"
      ]
     },
     "execution_count": 14,
     "metadata": {},
     "output_type": "execute_result"
    }
   ],
   "source": [
    "poa_gdf.dtypes"
   ]
  },
  {
   "cell_type": "code",
   "execution_count": 26,
   "id": "acoustic-tonight",
   "metadata": {},
   "outputs": [
    {
     "data": {
      "text/plain": [
       "0      POLYGON ((144.96489 -37.80687, 144.96511 -37.8...\n",
       "1      POLYGON ((144.97395 -37.81332, 144.97362 -37.8...\n",
       "2      POLYGON ((144.90759 -37.80614, 144.90768 -37.8...\n",
       "3      POLYGON ((144.97109 -37.83513, 144.97169 -37.8...\n",
       "4      POLYGON ((144.95061 -37.82226, 144.95119 -37.8...\n",
       "                             ...                        \n",
       "693    POLYGON ((145.50862 -38.42730, 145.50916 -38.4...\n",
       "694    POLYGON ((145.42543 -38.46595, 145.42560 -38.4...\n",
       "695    POLYGON ((145.55385 -38.54178, 145.55309 -38.5...\n",
       "696    MULTIPOLYGON (((145.56351 -38.54942, 145.56195...\n",
       "697    POLYGON ((145.84517 -38.63648, 145.84696 -38.6...\n",
       "Name: geometry, Length: 698, dtype: geometry"
      ]
     },
     "execution_count": 26,
     "metadata": {},
     "output_type": "execute_result"
    }
   ],
   "source": [
    "poa_gdf.geometry"
   ]
  },
  {
   "cell_type": "code",
   "execution_count": 27,
   "id": "promising-habitat",
   "metadata": {},
   "outputs": [
    {
     "name": "stderr",
     "output_type": "stream",
     "text": [
      "/home/danph/anaconda3/envs/pysal-workshop/lib/python3.7/site-packages/ipykernel_launcher.py:1: UserWarning: Geometry is in a geographic CRS. Results from 'area' are likely incorrect. Use 'GeoSeries.to_crs()' to re-project geometries to a projected CRS before this operation.\n",
      "\n",
      "  \"\"\"Entry point for launching an IPython kernel.\n"
     ]
    },
    {
     "data": {
      "text/plain": [
       "0      0.000326\n",
       "1      0.000190\n",
       "2      0.000673\n",
       "3      0.000339\n",
       "4      0.000012\n",
       "         ...   \n",
       "693    0.002659\n",
       "694    0.005078\n",
       "695    0.010234\n",
       "696    0.020562\n",
       "697    0.015703\n",
       "Length: 698, dtype: float64"
      ]
     },
     "execution_count": 27,
     "metadata": {},
     "output_type": "execute_result"
    }
   ],
   "source": [
    "poa_gdf.geometry.area"
   ]
  },
  {
   "cell_type": "code",
   "execution_count": 28,
   "id": "annual-confidence",
   "metadata": {},
   "outputs": [
    {
     "name": "stderr",
     "output_type": "stream",
     "text": [
      "/home/danph/anaconda3/envs/pysal-workshop/lib/python3.7/site-packages/ipykernel_launcher.py:1: UserWarning: Geometry is in a geographic CRS. Results from 'centroid' are likely incorrect. Use 'GeoSeries.to_crs()' to re-project geometries to a projected CRS before this operation.\n",
      "\n",
      "  \"\"\"Entry point for launching an IPython kernel.\n"
     ]
    },
    {
     "data": {
      "text/plain": [
       "0      POINT (144.96569 -37.81472)\n",
       "1      POINT (144.98259 -37.81443)\n",
       "2      POINT (144.92520 -37.80933)\n",
       "3      POINT (144.97729 -37.83505)\n",
       "4      POINT (144.95255 -37.82270)\n",
       "                  ...             \n",
       "693    POINT (145.52621 -38.45105)\n",
       "694    POINT (145.46584 -38.47673)\n",
       "695    POINT (145.58331 -38.53206)\n",
       "696    POINT (145.58934 -38.57552)\n",
       "697    POINT (145.75884 -38.61690)\n",
       "Length: 698, dtype: geometry"
      ]
     },
     "execution_count": 28,
     "metadata": {},
     "output_type": "execute_result"
    }
   ],
   "source": [
    "poa_gdf.geometry.centroid"
   ]
  },
  {
   "cell_type": "code",
   "execution_count": 15,
   "id": "maritime-hobby",
   "metadata": {},
   "outputs": [],
   "source": [
    "### Get postcodes in Victoria\n"
   ]
  },
  {
   "cell_type": "markdown",
   "id": "urban-rotation",
   "metadata": {},
   "source": [
    "### Join data"
   ]
  },
  {
   "cell_type": "code",
   "execution_count": 16,
   "id": "subject-threshold",
   "metadata": {},
   "outputs": [
    {
     "data": {
      "text/plain": [
       "(9001, 8)"
      ]
     },
     "execution_count": 16,
     "metadata": {},
     "output_type": "execute_result"
    }
   ],
   "source": [
    "crime_gdf = crime.merge(poa_gdf, how=\"left\", left_on=\"Postcode\", right_on=\"POA_CODE16\")\n",
    "crime_gdf.shape"
   ]
  },
  {
   "cell_type": "code",
   "execution_count": 18,
   "id": "persistent-drink",
   "metadata": {},
   "outputs": [
    {
     "data": {
      "text/html": [
       "<div>\n",
       "<style scoped>\n",
       "    .dataframe tbody tr th:only-of-type {\n",
       "        vertical-align: middle;\n",
       "    }\n",
       "\n",
       "    .dataframe tbody tr th {\n",
       "        vertical-align: top;\n",
       "    }\n",
       "\n",
       "    .dataframe thead th {\n",
       "        text-align: right;\n",
       "    }\n",
       "</style>\n",
       "<table border=\"1\" class=\"dataframe\">\n",
       "  <thead>\n",
       "    <tr style=\"text-align: right;\">\n",
       "      <th></th>\n",
       "      <th>Year</th>\n",
       "      <th>Local Government Area</th>\n",
       "      <th>Postcode</th>\n",
       "      <th>Total Incidents</th>\n",
       "      <th>POA_CODE16</th>\n",
       "      <th>POA_NAME16</th>\n",
       "      <th>AREASQKM16</th>\n",
       "      <th>geometry</th>\n",
       "    </tr>\n",
       "  </thead>\n",
       "  <tbody>\n",
       "    <tr>\n",
       "      <th>0</th>\n",
       "      <td>2011</td>\n",
       "      <td>Alpine</td>\n",
       "      <td>3691</td>\n",
       "      <td>5</td>\n",
       "      <td>3691</td>\n",
       "      <td>3691</td>\n",
       "      <td>1837.4123</td>\n",
       "      <td>MULTIPOLYGON (((146.90262 -36.10540, 146.90189...</td>\n",
       "    </tr>\n",
       "    <tr>\n",
       "      <th>1</th>\n",
       "      <td>2011</td>\n",
       "      <td>Alpine</td>\n",
       "      <td>3697</td>\n",
       "      <td>4</td>\n",
       "      <td>3697</td>\n",
       "      <td>3697</td>\n",
       "      <td>140.6154</td>\n",
       "      <td>POLYGON ((147.13594 -36.69941, 147.13629 -36.6...</td>\n",
       "    </tr>\n",
       "    <tr>\n",
       "      <th>2</th>\n",
       "      <td>2011</td>\n",
       "      <td>Alpine</td>\n",
       "      <td>3698</td>\n",
       "      <td>3</td>\n",
       "      <td>3698</td>\n",
       "      <td>3698</td>\n",
       "      <td>48.8349</td>\n",
       "      <td>POLYGON ((147.13954 -36.72241, 147.14057 -36.7...</td>\n",
       "    </tr>\n",
       "    <tr>\n",
       "      <th>3</th>\n",
       "      <td>2011</td>\n",
       "      <td>Alpine</td>\n",
       "      <td>3699</td>\n",
       "      <td>13</td>\n",
       "      <td>3699</td>\n",
       "      <td>3699</td>\n",
       "      <td>502.9748</td>\n",
       "      <td>POLYGON ((147.16186 -36.73468, 147.16187 -36.7...</td>\n",
       "    </tr>\n",
       "    <tr>\n",
       "      <th>4</th>\n",
       "      <td>2011</td>\n",
       "      <td>Alpine</td>\n",
       "      <td>3737</td>\n",
       "      <td>153</td>\n",
       "      <td>3737</td>\n",
       "      <td>3737</td>\n",
       "      <td>1737.5617</td>\n",
       "      <td>POLYGON ((146.65912 -36.54841, 146.65910 -36.5...</td>\n",
       "    </tr>\n",
       "  </tbody>\n",
       "</table>\n",
       "</div>"
      ],
      "text/plain": [
       "   Year Local Government Area Postcode  Total Incidents POA_CODE16 POA_NAME16  \\\n",
       "0  2011                Alpine     3691                5       3691       3691   \n",
       "1  2011                Alpine     3697                4       3697       3697   \n",
       "2  2011                Alpine     3698                3       3698       3698   \n",
       "3  2011                Alpine     3699               13       3699       3699   \n",
       "4  2011                Alpine     3737              153       3737       3737   \n",
       "\n",
       "   AREASQKM16                                           geometry  \n",
       "0   1837.4123  MULTIPOLYGON (((146.90262 -36.10540, 146.90189...  \n",
       "1    140.6154  POLYGON ((147.13594 -36.69941, 147.13629 -36.6...  \n",
       "2     48.8349  POLYGON ((147.13954 -36.72241, 147.14057 -36.7...  \n",
       "3    502.9748  POLYGON ((147.16186 -36.73468, 147.16187 -36.7...  \n",
       "4   1737.5617  POLYGON ((146.65912 -36.54841, 146.65910 -36.5...  "
      ]
     },
     "execution_count": 18,
     "metadata": {},
     "output_type": "execute_result"
    }
   ],
   "source": [
    "crime_gdf.head()"
   ]
  },
  {
   "cell_type": "code",
   "execution_count": 19,
   "id": "civilian-square",
   "metadata": {},
   "outputs": [],
   "source": [
    "crime_gdf = gpd.GeoDataFrame(crime_gdf)"
   ]
  },
  {
   "cell_type": "code",
   "execution_count": 20,
   "id": "organic-guatemala",
   "metadata": {},
   "outputs": [
    {
     "data": {
      "text/plain": [
       "((9001, 8), geopandas.geodataframe.GeoDataFrame)"
      ]
     },
     "execution_count": 20,
     "metadata": {},
     "output_type": "execute_result"
    }
   ],
   "source": [
    "crime_gdf.shape, type(crime_gdf)"
   ]
  },
  {
   "cell_type": "code",
   "execution_count": 25,
   "id": "transparent-effects",
   "metadata": {},
   "outputs": [],
   "source": [
    "crime_gdf.to_file(\"../data/processed/poa_crime_gdf.geojson\",driver=\"GeoJSON\", index=False)"
   ]
  },
  {
   "cell_type": "markdown",
   "id": "preliminary-region",
   "metadata": {},
   "source": [
    "### Visualise postcode by total incidents"
   ]
  },
  {
   "cell_type": "code",
   "execution_count": 23,
   "id": "aggressive-paper",
   "metadata": {},
   "outputs": [
    {
     "data": {
      "image/png": "[encoded data removed]",
      "text/plain": [
       "<Figure size 1008x576 with 1 Axes>"
      ]
     },
     "metadata": {
      "needs_background": "light"
     },
     "output_type": "display_data"
    }
   ],
   "source": [
    "ax = crime_gdf.plot(figsize=(14,8), column=\"Total Incidents\")# \n",
    "# poa_gdf.plot(ax=ax, edgecolor='r')"
   ]
  },
  {
   "cell_type": "code",
   "execution_count": null,
   "id": "bottom-pursuit",
   "metadata": {},
   "outputs": [],
   "source": []
  }
 ],
 "metadata": {
  "kernelspec": {
   "display_name": "Python 3",
   "language": "python",
   "name": "python3"
  },
  "language_info": {
   "codemirror_mode": {
    "name": "ipython",
    "version": 3
   },
   "file_extension": ".py",
   "mimetype": "text/x-python",
   "name": "python",
   "nbconvert_exporter": "python",
   "pygments_lexer": "ipython3",
   "version": "3.7.10"
  }
 },
 "nbformat": 4,
 "nbformat_minor": 5
}
