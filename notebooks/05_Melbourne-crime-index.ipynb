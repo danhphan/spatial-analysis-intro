{
 "cells": [
  {
   "cell_type": "markdown",
   "id": "therapeutic-coordinate",
   "metadata": {},
   "source": [
    "## Melbourne crime index"
   ]
  },
  {
   "cell_type": "markdown",
   "id": "rocky-times",
   "metadata": {},
   "source": [
    "In notebook 3, we have calculated the number of criminal incidents in diffrent postcodes along with its shapefiles. However, to calculate a crime index, we need to compare it with their relative population.\n",
    "\n",
    "This notebook will calculate the number of criminal incidents per 1000 households and per 1000 people.\n"
   ]
  },
  {
   "cell_type": "code",
   "execution_count": 19,
   "id": "congressional-chance",
   "metadata": {},
   "outputs": [],
   "source": [
    "import pandas as pd\n",
    "import geopandas as gpd"
   ]
  },
  {
   "cell_type": "code",
   "execution_count": 8,
   "id": "massive-experiment",
   "metadata": {},
   "outputs": [
    {
     "data": {
      "text/plain": [
       "(9001, 8)"
      ]
     },
     "execution_count": 8,
     "metadata": {},
     "output_type": "execute_result"
    }
   ],
   "source": [
    "### Read crime data\n",
    "crime_gdf = gpd.read_file(\"../data/processed/poa_crime_gdf.geojson\")\n",
    "crime_gdf.shape"
   ]
  },
  {
   "cell_type": "code",
   "execution_count": 9,
   "id": "geological-assistant",
   "metadata": {},
   "outputs": [
    {
     "data": {
      "text/html": [
       "<div>\n",
       "<style scoped>\n",
       "    .dataframe tbody tr th:only-of-type {\n",
       "        vertical-align: middle;\n",
       "    }\n",
       "\n",
       "    .dataframe tbody tr th {\n",
       "        vertical-align: top;\n",
       "    }\n",
       "\n",
       "    .dataframe thead th {\n",
       "        text-align: right;\n",
       "    }\n",
       "</style>\n",
       "<table border=\"1\" class=\"dataframe\">\n",
       "  <thead>\n",
       "    <tr style=\"text-align: right;\">\n",
       "      <th></th>\n",
       "      <th>Year</th>\n",
       "      <th>Local Government Area</th>\n",
       "      <th>Postcode</th>\n",
       "      <th>Total Incidents</th>\n",
       "      <th>POA_CODE16</th>\n",
       "      <th>POA_NAME16</th>\n",
       "      <th>AREASQKM16</th>\n",
       "      <th>geometry</th>\n",
       "    </tr>\n",
       "  </thead>\n",
       "  <tbody>\n",
       "    <tr>\n",
       "      <th>0</th>\n",
       "      <td>2011</td>\n",
       "      <td>Alpine</td>\n",
       "      <td>3691</td>\n",
       "      <td>5</td>\n",
       "      <td>3691</td>\n",
       "      <td>3691</td>\n",
       "      <td>1837.4123</td>\n",
       "      <td>MULTIPOLYGON (((146.90262 -36.10540, 146.90189...</td>\n",
       "    </tr>\n",
       "    <tr>\n",
       "      <th>1</th>\n",
       "      <td>2011</td>\n",
       "      <td>Alpine</td>\n",
       "      <td>3697</td>\n",
       "      <td>4</td>\n",
       "      <td>3697</td>\n",
       "      <td>3697</td>\n",
       "      <td>140.6154</td>\n",
       "      <td>POLYGON ((147.13594 -36.69941, 147.13629 -36.6...</td>\n",
       "    </tr>\n",
       "    <tr>\n",
       "      <th>2</th>\n",
       "      <td>2011</td>\n",
       "      <td>Alpine</td>\n",
       "      <td>3698</td>\n",
       "      <td>3</td>\n",
       "      <td>3698</td>\n",
       "      <td>3698</td>\n",
       "      <td>48.8349</td>\n",
       "      <td>POLYGON ((147.13954 -36.72241, 147.14057 -36.7...</td>\n",
       "    </tr>\n",
       "    <tr>\n",
       "      <th>3</th>\n",
       "      <td>2011</td>\n",
       "      <td>Alpine</td>\n",
       "      <td>3699</td>\n",
       "      <td>13</td>\n",
       "      <td>3699</td>\n",
       "      <td>3699</td>\n",
       "      <td>502.9748</td>\n",
       "      <td>POLYGON ((147.16186 -36.73468, 147.16187 -36.7...</td>\n",
       "    </tr>\n",
       "    <tr>\n",
       "      <th>4</th>\n",
       "      <td>2011</td>\n",
       "      <td>Alpine</td>\n",
       "      <td>3737</td>\n",
       "      <td>153</td>\n",
       "      <td>3737</td>\n",
       "      <td>3737</td>\n",
       "      <td>1737.5617</td>\n",
       "      <td>POLYGON ((146.65912 -36.54841, 146.65910 -36.5...</td>\n",
       "    </tr>\n",
       "  </tbody>\n",
       "</table>\n",
       "</div>"
      ],
      "text/plain": [
       "   Year Local Government Area Postcode  Total Incidents POA_CODE16 POA_NAME16  \\\n",
       "0  2011                Alpine     3691                5       3691       3691   \n",
       "1  2011                Alpine     3697                4       3697       3697   \n",
       "2  2011                Alpine     3698                3       3698       3698   \n",
       "3  2011                Alpine     3699               13       3699       3699   \n",
       "4  2011                Alpine     3737              153       3737       3737   \n",
       "\n",
       "   AREASQKM16                                           geometry  \n",
       "0   1837.4123  MULTIPOLYGON (((146.90262 -36.10540, 146.90189...  \n",
       "1    140.6154  POLYGON ((147.13594 -36.69941, 147.13629 -36.6...  \n",
       "2     48.8349  POLYGON ((147.13954 -36.72241, 147.14057 -36.7...  \n",
       "3    502.9748  POLYGON ((147.16186 -36.73468, 147.16187 -36.7...  \n",
       "4   1737.5617  POLYGON ((146.65912 -36.54841, 146.65910 -36.5...  "
      ]
     },
     "execution_count": 9,
     "metadata": {},
     "output_type": "execute_result"
    }
   ],
   "source": [
    "crime_gdf.head()"
   ]
  },
  {
   "cell_type": "code",
   "execution_count": 20,
   "id": "digital-perception",
   "metadata": {},
   "outputs": [
    {
     "data": {
      "text/plain": [
       "Year                        int64\n",
       "Local Government Area      object\n",
       "Postcode                   object\n",
       "Total Incidents             int64\n",
       "POA_CODE16                 object\n",
       "POA_NAME16                 object\n",
       "AREASQKM16                float64\n",
       "geometry                 geometry\n",
       "dtype: object"
      ]
     },
     "execution_count": 20,
     "metadata": {},
     "output_type": "execute_result"
    }
   ],
   "source": [
    "crime_gdf.dtypes"
   ]
  },
  {
   "cell_type": "code",
   "execution_count": 21,
   "id": "rocky-education",
   "metadata": {},
   "outputs": [
    {
     "data": {
      "text/plain": [
       "697"
      ]
     },
     "execution_count": 21,
     "metadata": {},
     "output_type": "execute_result"
    }
   ],
   "source": [
    "crime_gdf.POA_CODE16.nunique()"
   ]
  },
  {
   "cell_type": "code",
   "execution_count": 22,
   "id": "genuine-nightmare",
   "metadata": {},
   "outputs": [
    {
     "data": {
      "text/plain": [
       "(698, 3)"
      ]
     },
     "execution_count": 22,
     "metadata": {},
     "output_type": "execute_result"
    }
   ],
   "source": [
    "### Read postcode households\n",
    "poa_hh = pd.read_csv(\"../data/processed/poa_households.csv\")\n",
    "poa_hh.shape"
   ]
  },
  {
   "cell_type": "code",
   "execution_count": 23,
   "id": "graduate-valve",
   "metadata": {},
   "outputs": [
    {
     "data": {
      "text/html": [
       "<div>\n",
       "<style scoped>\n",
       "    .dataframe tbody tr th:only-of-type {\n",
       "        vertical-align: middle;\n",
       "    }\n",
       "\n",
       "    .dataframe tbody tr th {\n",
       "        vertical-align: top;\n",
       "    }\n",
       "\n",
       "    .dataframe thead th {\n",
       "        text-align: right;\n",
       "    }\n",
       "</style>\n",
       "<table border=\"1\" class=\"dataframe\">\n",
       "  <thead>\n",
       "    <tr style=\"text-align: right;\">\n",
       "      <th></th>\n",
       "      <th>POA_CODE16</th>\n",
       "      <th>Total Households</th>\n",
       "      <th>Population</th>\n",
       "    </tr>\n",
       "  </thead>\n",
       "  <tbody>\n",
       "    <tr>\n",
       "      <th>0</th>\n",
       "      <td>3000</td>\n",
       "      <td>5804</td>\n",
       "      <td>49192</td>\n",
       "    </tr>\n",
       "    <tr>\n",
       "      <th>1</th>\n",
       "      <td>3002</td>\n",
       "      <td>1107</td>\n",
       "      <td>6196</td>\n",
       "    </tr>\n",
       "    <tr>\n",
       "      <th>2</th>\n",
       "      <td>3003</td>\n",
       "      <td>1087</td>\n",
       "      <td>5588</td>\n",
       "    </tr>\n",
       "    <tr>\n",
       "      <th>3</th>\n",
       "      <td>3004</td>\n",
       "      <td>2223</td>\n",
       "      <td>10861</td>\n",
       "    </tr>\n",
       "    <tr>\n",
       "      <th>4</th>\n",
       "      <td>3005</td>\n",
       "      <td>99</td>\n",
       "      <td>879</td>\n",
       "    </tr>\n",
       "  </tbody>\n",
       "</table>\n",
       "</div>"
      ],
      "text/plain": [
       "   POA_CODE16  Total Households  Population\n",
       "0        3000              5804       49192\n",
       "1        3002              1107        6196\n",
       "2        3003              1087        5588\n",
       "3        3004              2223       10861\n",
       "4        3005                99         879"
      ]
     },
     "execution_count": 23,
     "metadata": {},
     "output_type": "execute_result"
    }
   ],
   "source": [
    "poa_hh.head()"
   ]
  },
  {
   "cell_type": "code",
   "execution_count": 24,
   "id": "pressed-savage",
   "metadata": {},
   "outputs": [
    {
     "data": {
      "text/plain": [
       "POA_CODE16          int64\n",
       "Total Households    int64\n",
       "Population          int64\n",
       "dtype: object"
      ]
     },
     "execution_count": 24,
     "metadata": {},
     "output_type": "execute_result"
    }
   ],
   "source": [
    "poa_hh.dtypes"
   ]
  },
  {
   "cell_type": "code",
   "execution_count": 25,
   "id": "rising-jersey",
   "metadata": {},
   "outputs": [],
   "source": [
    "poa_hh.POA_CODE16 = poa_hh.POA_CODE16.astype(str)"
   ]
  },
  {
   "cell_type": "code",
   "execution_count": 27,
   "id": "electoral-arlington",
   "metadata": {},
   "outputs": [
    {
     "data": {
      "text/plain": [
       "698"
      ]
     },
     "execution_count": 27,
     "metadata": {},
     "output_type": "execute_result"
    }
   ],
   "source": [
    "poa_hh.POA_CODE16.nunique()"
   ]
  },
  {
   "cell_type": "code",
   "execution_count": 29,
   "id": "outstanding-usage",
   "metadata": {},
   "outputs": [],
   "source": [
    "### Join data\n",
    "crime_gdf = crime_gdf.merge(poa_hh, how=\"left\", left_on=\"POA_CODE16\", right_on=\"POA_CODE16\")"
   ]
  },
  {
   "cell_type": "code",
   "execution_count": 69,
   "id": "imperial-alexander",
   "metadata": {},
   "outputs": [
    {
     "data": {
      "text/html": [
       "<div>\n",
       "<style scoped>\n",
       "    .dataframe tbody tr th:only-of-type {\n",
       "        vertical-align: middle;\n",
       "    }\n",
       "\n",
       "    .dataframe tbody tr th {\n",
       "        vertical-align: top;\n",
       "    }\n",
       "\n",
       "    .dataframe thead th {\n",
       "        text-align: right;\n",
       "    }\n",
       "</style>\n",
       "<table border=\"1\" class=\"dataframe\">\n",
       "  <thead>\n",
       "    <tr style=\"text-align: right;\">\n",
       "      <th></th>\n",
       "      <th>Year</th>\n",
       "      <th>Local Government Area</th>\n",
       "      <th>Postcode</th>\n",
       "      <th>Total Incidents</th>\n",
       "      <th>POA_CODE16</th>\n",
       "      <th>POA_NAME16</th>\n",
       "      <th>AREASQKM16</th>\n",
       "      <th>geometry</th>\n",
       "      <th>Total Households</th>\n",
       "      <th>Population</th>\n",
       "      <th>Incidents by 10,000 households</th>\n",
       "      <th>Incidents by 10,000 population</th>\n",
       "      <th>Incidents by 1000 households</th>\n",
       "      <th>Incidents by 1000 population</th>\n",
       "    </tr>\n",
       "  </thead>\n",
       "  <tbody>\n",
       "    <tr>\n",
       "      <th>0</th>\n",
       "      <td>2011</td>\n",
       "      <td>Alpine</td>\n",
       "      <td>3691</td>\n",
       "      <td>5</td>\n",
       "      <td>3691</td>\n",
       "      <td>3691</td>\n",
       "      <td>1837.4123</td>\n",
       "      <td>MULTIPOLYGON (((146.90262 -36.10540, 146.90189...</td>\n",
       "      <td>2550</td>\n",
       "      <td>9600</td>\n",
       "      <td>1.960016</td>\n",
       "      <td>0.520779</td>\n",
       "      <td>1.960016</td>\n",
       "      <td>0.520779</td>\n",
       "    </tr>\n",
       "    <tr>\n",
       "      <th>1</th>\n",
       "      <td>2011</td>\n",
       "      <td>Alpine</td>\n",
       "      <td>3697</td>\n",
       "      <td>4</td>\n",
       "      <td>3697</td>\n",
       "      <td>3697</td>\n",
       "      <td>140.6154</td>\n",
       "      <td>POLYGON ((147.13594 -36.69941, 147.13629 -36.6...</td>\n",
       "      <td>158</td>\n",
       "      <td>541</td>\n",
       "      <td>25.157233</td>\n",
       "      <td>7.380074</td>\n",
       "      <td>25.157233</td>\n",
       "      <td>7.380074</td>\n",
       "    </tr>\n",
       "    <tr>\n",
       "      <th>2</th>\n",
       "      <td>2011</td>\n",
       "      <td>Alpine</td>\n",
       "      <td>3698</td>\n",
       "      <td>3</td>\n",
       "      <td>3698</td>\n",
       "      <td>3698</td>\n",
       "      <td>48.8349</td>\n",
       "      <td>POLYGON ((147.13954 -36.72241, 147.14057 -36.7...</td>\n",
       "      <td>234</td>\n",
       "      <td>936</td>\n",
       "      <td>12.765957</td>\n",
       "      <td>3.201708</td>\n",
       "      <td>12.765957</td>\n",
       "      <td>3.201708</td>\n",
       "    </tr>\n",
       "    <tr>\n",
       "      <th>3</th>\n",
       "      <td>2011</td>\n",
       "      <td>Alpine</td>\n",
       "      <td>3699</td>\n",
       "      <td>13</td>\n",
       "      <td>3699</td>\n",
       "      <td>3699</td>\n",
       "      <td>502.9748</td>\n",
       "      <td>POLYGON ((147.16186 -36.73468, 147.16187 -36.7...</td>\n",
       "      <td>225</td>\n",
       "      <td>4169</td>\n",
       "      <td>57.522124</td>\n",
       "      <td>3.117506</td>\n",
       "      <td>57.522124</td>\n",
       "      <td>3.117506</td>\n",
       "    </tr>\n",
       "    <tr>\n",
       "      <th>4</th>\n",
       "      <td>2011</td>\n",
       "      <td>Alpine</td>\n",
       "      <td>3737</td>\n",
       "      <td>153</td>\n",
       "      <td>3737</td>\n",
       "      <td>3737</td>\n",
       "      <td>1737.5617</td>\n",
       "      <td>POLYGON ((146.65912 -36.54841, 146.65910 -36.5...</td>\n",
       "      <td>1145</td>\n",
       "      <td>4136</td>\n",
       "      <td>133.507853</td>\n",
       "      <td>36.983321</td>\n",
       "      <td>133.507853</td>\n",
       "      <td>36.983321</td>\n",
       "    </tr>\n",
       "  </tbody>\n",
       "</table>\n",
       "</div>"
      ],
      "text/plain": [
       "   Year Local Government Area Postcode  Total Incidents POA_CODE16 POA_NAME16  \\\n",
       "0  2011                Alpine     3691                5       3691       3691   \n",
       "1  2011                Alpine     3697                4       3697       3697   \n",
       "2  2011                Alpine     3698                3       3698       3698   \n",
       "3  2011                Alpine     3699               13       3699       3699   \n",
       "4  2011                Alpine     3737              153       3737       3737   \n",
       "\n",
       "   AREASQKM16                                           geometry  \\\n",
       "0   1837.4123  MULTIPOLYGON (((146.90262 -36.10540, 146.90189...   \n",
       "1    140.6154  POLYGON ((147.13594 -36.69941, 147.13629 -36.6...   \n",
       "2     48.8349  POLYGON ((147.13954 -36.72241, 147.14057 -36.7...   \n",
       "3    502.9748  POLYGON ((147.16186 -36.73468, 147.16187 -36.7...   \n",
       "4   1737.5617  POLYGON ((146.65912 -36.54841, 146.65910 -36.5...   \n",
       "\n",
       "   Total Households  Population  Incidents by 10,000 households  \\\n",
       "0              2550        9600                        1.960016   \n",
       "1               158         541                       25.157233   \n",
       "2               234         936                       12.765957   \n",
       "3               225        4169                       57.522124   \n",
       "4              1145        4136                      133.507853   \n",
       "\n",
       "   Incidents by 10,000 population  Incidents by 1000 households  \\\n",
       "0                        0.520779                      1.960016   \n",
       "1                        7.380074                     25.157233   \n",
       "2                        3.201708                     12.765957   \n",
       "3                        3.117506                     57.522124   \n",
       "4                       36.983321                    133.507853   \n",
       "\n",
       "   Incidents by 1000 population  \n",
       "0                      0.520779  \n",
       "1                      7.380074  \n",
       "2                      3.201708  \n",
       "3                      3.117506  \n",
       "4                     36.983321  "
      ]
     },
     "execution_count": 69,
     "metadata": {},
     "output_type": "execute_result"
    }
   ],
   "source": [
    "crime_gdf.head()"
   ]
  },
  {
   "cell_type": "code",
   "execution_count": 60,
   "id": "multiple-relation",
   "metadata": {},
   "outputs": [],
   "source": [
    "crime_gdf[\"Incidents by 1000 households\"] = 1_000 * crime_gdf[\"Total Incidents\"] / (crime_gdf[\"Total Households\"] + 1)\n",
    "crime_gdf[\"Incidents by 1000 population\"] = 1_000 * crime_gdf[\"Total Incidents\"] / (crime_gdf[\"Population\"] + 1)"
   ]
  },
  {
   "cell_type": "markdown",
   "id": "fallen-destination",
   "metadata": {},
   "source": [
    "### Explore the crime index"
   ]
  },
  {
   "cell_type": "code",
   "execution_count": 61,
   "id": "different-diving",
   "metadata": {},
   "outputs": [
    {
     "data": {
      "text/plain": [
       "count      9001.000000\n",
       "mean       1412.337846\n",
       "std       21779.785129\n",
       "min           0.126534\n",
       "25%          48.560136\n",
       "50%         112.537899\n",
       "75%         194.774347\n",
       "max      620000.000000\n",
       "Name: Incidents by 10,000 households, dtype: float64"
      ]
     },
     "execution_count": 61,
     "metadata": {},
     "output_type": "execute_result"
    }
   ],
   "source": [
    "crime_gdf[\"Incidents by 10,000 households\"].describe()"
   ]
  },
  {
   "cell_type": "code",
   "execution_count": 62,
   "id": "ultimate-federal",
   "metadata": {},
   "outputs": [
    {
     "data": {
      "text/plain": [
       "(22, 14)"
      ]
     },
     "execution_count": 62,
     "metadata": {},
     "output_type": "execute_result"
    }
   ],
   "source": [
    "crime_gdf[crime_gdf[\"Incidents by 1000 households\"] >= 2e5].shape"
   ]
  },
  {
   "cell_type": "code",
   "execution_count": 70,
   "id": "experimental-india",
   "metadata": {},
   "outputs": [
    {
     "data": {
      "text/plain": [
       "<AxesSubplot:ylabel='Frequency'>"
      ]
     },
     "execution_count": 70,
     "metadata": {},
     "output_type": "execute_result"
    },
    {
     "data": {
      "image/png": "[encoded data removed]",
      "text/plain": [
       "<Figure size 432x288 with 1 Axes>"
      ]
     },
     "metadata": {
      "needs_background": "light"
     },
     "output_type": "display_data"
    }
   ],
   "source": [
    "# Histogram\n",
    "crime_gdf[crime_gdf[\"Incidents by 1000 households\"] <= 500][\"Incidents by 1000 households\"].plot(kind=\"hist\", bins=500)"
   ]
  },
  {
   "cell_type": "code",
   "execution_count": 79,
   "id": "working-secretariat",
   "metadata": {},
   "outputs": [
    {
     "name": "stderr",
     "output_type": "stream",
     "text": [
      "/home/danph/anaconda3/envs/pysal-workshop/lib/python3.7/site-packages/seaborn/distributions.py:2557: FutureWarning: `distplot` is a deprecated function and will be removed in a future version. Please adapt your code to use either `displot` (a figure-level function with similar flexibility) or `histplot` (an axes-level function for histograms).\n",
      "  warnings.warn(msg, FutureWarning)\n"
     ]
    },
    {
     "data": {
      "text/plain": [
       "<AxesSubplot:xlabel='Incidents by 1000 households', ylabel='Density'>"
      ]
     },
     "execution_count": 79,
     "metadata": {},
     "output_type": "execute_result"
    },
    {
     "data": {
      "image/png": "[encoded data removed]",
      "text/plain": [
       "<Figure size 432x288 with 1 Axes>"
      ]
     },
     "metadata": {
      "needs_background": "light"
     },
     "output_type": "display_data"
    }
   ],
   "source": [
    "sbn.distplot(crime_gdf[crime_gdf[\"Incidents by 1000 households\"] <= 500][\"Incidents by 1000 households\"])"
   ]
  },
  {
   "cell_type": "code",
   "execution_count": 71,
   "id": "organic-shopping",
   "metadata": {},
   "outputs": [
    {
     "data": {
      "text/plain": [
       "count      9001.000000\n",
       "mean        253.708380\n",
       "std        6321.600042\n",
       "min           0.031883\n",
       "25%          12.987013\n",
       "50%          30.726257\n",
       "75%          51.622419\n",
       "max      239000.000000\n",
       "Name: Incidents by 1000 population, dtype: float64"
      ]
     },
     "execution_count": 71,
     "metadata": {},
     "output_type": "execute_result"
    }
   ],
   "source": [
    "crime_gdf[\"Incidents by 1000 population\"].describe()"
   ]
  },
  {
   "cell_type": "code",
   "execution_count": 72,
   "id": "sustainable-throat",
   "metadata": {},
   "outputs": [
    {
     "data": {
      "text/plain": [
       "<AxesSubplot:ylabel='Frequency'>"
      ]
     },
     "execution_count": 72,
     "metadata": {},
     "output_type": "execute_result"
    },
    {
     "data": {
      "image/png": "[encoded data removed]",
      "text/plain": [
       "<Figure size 432x288 with 1 Axes>"
      ]
     },
     "metadata": {
      "needs_background": "light"
     },
     "output_type": "display_data"
    }
   ],
   "source": [
    "# Histogram\n",
    "crime_gdf[crime_gdf[\"Incidents by 1000 population\"] <= 200][\"Incidents by 1000 population\"].plot(kind=\"hist\", bins=500)"
   ]
  },
  {
   "cell_type": "code",
   "execution_count": 74,
   "id": "closing-monkey",
   "metadata": {},
   "outputs": [],
   "source": [
    "import seaborn as sbn"
   ]
  },
  {
   "cell_type": "code",
   "execution_count": 77,
   "id": "nearby-bangkok",
   "metadata": {},
   "outputs": [
    {
     "name": "stderr",
     "output_type": "stream",
     "text": [
      "/home/danph/anaconda3/envs/pysal-workshop/lib/python3.7/site-packages/seaborn/distributions.py:2557: FutureWarning: `distplot` is a deprecated function and will be removed in a future version. Please adapt your code to use either `displot` (a figure-level function with similar flexibility) or `histplot` (an axes-level function for histograms).\n",
      "  warnings.warn(msg, FutureWarning)\n"
     ]
    },
    {
     "data": {
      "text/plain": [
       "<AxesSubplot:xlabel='Incidents by 1000 population', ylabel='Density'>"
      ]
     },
     "execution_count": 77,
     "metadata": {},
     "output_type": "execute_result"
    },
    {
     "data": {
      "image/png": "[encoded data removed]",
      "text/plain": [
       "<Figure size 432x288 with 1 Axes>"
      ]
     },
     "metadata": {
      "needs_background": "light"
     },
     "output_type": "display_data"
    }
   ],
   "source": [
    "sbn.distplot(crime_gdf[crime_gdf[\"Incidents by 1000 population\"] <= 200][\"Incidents by 1000 population\"])"
   ]
  },
  {
   "cell_type": "code",
   "execution_count": 73,
   "id": "affected-relief",
   "metadata": {},
   "outputs": [],
   "source": [
    "# Save data\n",
    "crime_gdf.to_file(\"../data/processed/poa_crime_index.geojson\", driver=\"GeoJSON\", index=False)"
   ]
  },
  {
   "cell_type": "code",
   "execution_count": null,
   "id": "billion-appreciation",
   "metadata": {},
   "outputs": [],
   "source": []
  }
 ],
 "metadata": {
  "kernelspec": {
   "display_name": "Python 3",
   "language": "python",
   "name": "python3"
  },
  "language_info": {
   "codemirror_mode": {
    "name": "ipython",
    "version": 3
   },
   "file_extension": ".py",
   "mimetype": "text/x-python",
   "name": "python",
   "nbconvert_exporter": "python",
   "pygments_lexer": "ipython3",
   "version": "3.7.10"
  }
 },
 "nbformat": 4,
 "nbformat_minor": 5
}
