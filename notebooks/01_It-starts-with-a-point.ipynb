{
 "cells": [
  {
   "cell_type": "markdown",
   "id": "protecting-principal",
   "metadata": {},
   "source": [
    "## Geometry operation with shapely"
   ]
  },
  {
   "cell_type": "markdown",
   "id": "compound-rouge",
   "metadata": {},
   "source": [
    "This notebook introduces fundemental geometry such as point, linestring, and polygon, as well as basic geometry operations"
   ]
  },
  {
   "cell_type": "code",
   "execution_count": 112,
   "id": "numerical-words",
   "metadata": {},
   "outputs": [],
   "source": [
    "import shapely\n",
    "from shapely.geometry import Point, LineString, Polygon\n",
    "import matplotlib.pyplot as plt"
   ]
  },
  {
   "cell_type": "markdown",
   "id": "drawn-administration",
   "metadata": {},
   "source": [
    "### Point"
   ]
  },
  {
   "cell_type": "code",
   "execution_count": 113,
   "id": "acute-passing",
   "metadata": {},
   "outputs": [
    {
     "data": {
      "text/plain": [
       "shapely.geometry.point.Point"
      ]
     },
     "execution_count": 113,
     "metadata": {},
     "output_type": "execute_result"
    }
   ],
   "source": [
    "p1 = Point(1,2)\n",
    "type(p1)"
   ]
  },
  {
   "cell_type": "code",
   "execution_count": 114,
   "id": "former-andrew",
   "metadata": {},
   "outputs": [
    {
     "data": {
      "image/svg+xml": [
       "<svg xmlns=\"http://www.w3.org/2000/svg\" xmlns:xlink=\"http://www.w3.org/1999/xlink\" width=\"100.0\" height=\"100.0\" viewBox=\"0.0 1.0 2.0 2.0\" preserveAspectRatio=\"xMinYMin meet\"><g transform=\"matrix(1,0,0,-1,0,4.0)\"><circle cx=\"1.0\" cy=\"2.0\" r=\"0.06\" stroke=\"#555555\" stroke-width=\"0.02\" fill=\"#66cc99\" opacity=\"0.6\" /></g></svg>"
      ],
      "text/plain": [
       "<shapely.geometry.point.Point at 0x7f142cc1c090>"
      ]
     },
     "execution_count": 114,
     "metadata": {},
     "output_type": "execute_result"
    }
   ],
   "source": [
    "p1"
   ]
  },
  {
   "cell_type": "code",
   "execution_count": 115,
   "id": "meaning-reggae",
   "metadata": {},
   "outputs": [
    {
     "data": {
      "text/plain": [
       "(False, True, True)"
      ]
     },
     "execution_count": 115,
     "metadata": {},
     "output_type": "execute_result"
    }
   ],
   "source": [
    "p1.is_empty, p1.is_simple, p1.is_valid"
   ]
  },
  {
   "cell_type": "code",
   "execution_count": 116,
   "id": "intellectual-nevada",
   "metadata": {},
   "outputs": [
    {
     "data": {
      "text/plain": [
       "(1.0, 2.0, (array('d', [1.0]), array('d', [2.0])))"
      ]
     },
     "execution_count": 116,
     "metadata": {},
     "output_type": "execute_result"
    }
   ],
   "source": [
    "p1.x, p1.y, p1.xy"
   ]
  },
  {
   "cell_type": "code",
   "execution_count": 117,
   "id": "willing-lying",
   "metadata": {},
   "outputs": [
    {
     "data": {
      "text/plain": [
       "shapely.geometry.polygon.Polygon"
      ]
     },
     "execution_count": 117,
     "metadata": {},
     "output_type": "execute_result"
    }
   ],
   "source": [
    "p1 = p1.buffer(2)\n",
    "type(p1)"
   ]
  },
  {
   "cell_type": "code",
   "execution_count": 118,
   "id": "extra-scientist",
   "metadata": {},
   "outputs": [
    {
     "data": {
      "image/svg+xml": [
       "<svg xmlns=\"http://www.w3.org/2000/svg\" xmlns:xlink=\"http://www.w3.org/1999/xlink\" width=\"100.0\" height=\"100.0\" viewBox=\"-1.16 -0.16 4.32 4.32\" preserveAspectRatio=\"xMinYMin meet\"><g transform=\"matrix(1,0,0,-1,0,4.0)\"><path fill-rule=\"evenodd\" fill=\"#66cc99\" stroke=\"#555555\" stroke-width=\"0.0864\" opacity=\"0.6\" d=\"M 3.0,2.0 L 2.990369453344394,1.803965719340879 L 2.961570560806461,1.6098193559677438 L 2.913880671464418,1.419430645491076 L 2.847759065022574,1.2346331352698212 L 2.7638425286967108,1.0572065263480055 L 2.662939224605091,0.8888595339607965 L 2.5460209067254747,0.7312134316727101 L 2.4142135623730963,0.5857864376269062 L 2.2687865683272923,0.45397909327452735 L 2.111140466039206,0.33706077539491064 L 1.9427934736519972,0.236157471303291 L 1.7653668647301817,0.1522409349774274 L 1.5805693545089272,0.08611932853558302 L 1.3901806440322593,0.03842943919353958 L 1.1960342806591242,0.009630546655606587 L 1.0000000000000033,0.0 L 0.8039657193408822,0.00963054665560592 L 0.6098193559677471,0.03842943919353847 L 0.419430645491079,0.08611932853558124 L 0.23463313526982432,0.15224093497742497 L 0.0572065263480086,0.2361574713032879 L -0.11114046603920102,0.3370607753949073 L -0.2687865683272872,0.4539790932745229 L -0.4142135623730918,0.5857864376269017 L -0.5460209067254707,0.7312134316727048 L -0.6629392246050876,0.8888595339607914 L -0.7638425286967074,1.0572065263479997 L -0.8477590650225715,1.2346331352698154 L -0.9138806714644159,1.4194306454910692 L -0.9615705608064598,1.6098193559677376 L -0.9903694533443932,1.8039657193408722 L -1.0,1.9999999999999936 L -0.9903694533443943,2.196034280659115 L -0.9615705608064622,2.3901806440322497 L -0.9138806714644196,2.5805693545089183 L -0.8477590650225764,2.7653668647301726 L -0.7638425286967134,2.9427934736519887 L -0.6629392246050949,3.111140466039198 L -0.5460209067254786,3.268786568327285 L -0.4142135623731009,3.414213562373089 L -0.2687865683272972,3.546020906725469 L -0.11114046603921168,3.6629392246050854 L 0.05720652634799639,3.7638425286967054 L 0.23463313526981278,3.8477590650225704 L 0.4194306454910667,3.9138806714644154 L 0.609819355967734,3.961570560806459 L 0.8039657193408685,3.9903694533443925 L 0.9999999999999908,4.0 L 1.1960342806591113,3.9903694533443947 L 1.3901806440322462,3.9615705608064626 L 1.5805693545089157,3.9138806714644208 L 1.7653668647301701,3.8477590650225775 L 1.9427934736519856,3.763842528696715 L 2.1111404660391946,3.662939224605097 L 2.268786568327283,3.5460209067254804 L 2.414213562373087,3.414213562373103 L 2.5460209067254667,3.2687865683273003 L 2.6629392246050836,3.111140466039215 L 2.7638425286967045,2.942793473652005 L 2.8477590650225686,2.7653668647301908 L 2.913880671464414,2.580569354508937 L 2.961570560806458,2.3901806440322697 L 2.9903694533443925,2.1960342806591333 L 3.0,2.0 z\" /></g></svg>"
      ],
      "text/plain": [
       "<shapely.geometry.polygon.Polygon at 0x7f142cb6c690>"
      ]
     },
     "execution_count": 118,
     "metadata": {},
     "output_type": "execute_result"
    }
   ],
   "source": [
    "p1"
   ]
  },
  {
   "cell_type": "markdown",
   "id": "thick-sphere",
   "metadata": {},
   "source": [
    "### LineString"
   ]
  },
  {
   "cell_type": "code",
   "execution_count": 119,
   "id": "synthetic-decimal",
   "metadata": {},
   "outputs": [
    {
     "data": {
      "text/plain": [
       "shapely.geometry.linestring.LineString"
      ]
     },
     "execution_count": 119,
     "metadata": {},
     "output_type": "execute_result"
    }
   ],
   "source": [
    "# Create a LineString from an array\n",
    "point_arr = [[0, 0], [0, 1], [2, 2]]\n",
    "ls = LineString(point_arr)\n",
    "type(ls)"
   ]
  },
  {
   "cell_type": "code",
   "execution_count": 120,
   "id": "alleged-camcorder",
   "metadata": {},
   "outputs": [
    {
     "data": {
      "image/svg+xml": [
       "<svg xmlns=\"http://www.w3.org/2000/svg\" xmlns:xlink=\"http://www.w3.org/1999/xlink\" width=\"100.0\" height=\"100.0\" viewBox=\"-0.08 -0.08 2.16 2.16\" preserveAspectRatio=\"xMinYMin meet\"><g transform=\"matrix(1,0,0,-1,0,2.0)\"><polyline fill=\"none\" stroke=\"#66cc99\" stroke-width=\"0.0432\" points=\"0.0,0.0 0.0,1.0 2.0,2.0\" opacity=\"0.8\" /></g></svg>"
      ],
      "text/plain": [
       "<shapely.geometry.linestring.LineString at 0x7f142c9cff10>"
      ]
     },
     "execution_count": 120,
     "metadata": {},
     "output_type": "execute_result"
    }
   ],
   "source": [
    "ls"
   ]
  },
  {
   "cell_type": "code",
   "execution_count": 121,
   "id": "round-moses",
   "metadata": {},
   "outputs": [
    {
     "data": {
      "text/plain": [
       "(array('d', [0.0, 0.0, 2.0]), array('d', [0.0, 1.0, 2.0]))"
      ]
     },
     "execution_count": 121,
     "metadata": {},
     "output_type": "execute_result"
    }
   ],
   "source": [
    "ls.xy"
   ]
  },
  {
   "cell_type": "code",
   "execution_count": 122,
   "id": "convinced-genealogy",
   "metadata": {},
   "outputs": [
    {
     "data": {
      "text/plain": [
       "shapely.geometry.linestring.LineString"
      ]
     },
     "execution_count": 122,
     "metadata": {},
     "output_type": "execute_result"
    }
   ],
   "source": [
    "# Create a LineString from a list of Points\n",
    "p1 = Point(0, 0)\n",
    "p2 = Point(0, 1)\n",
    "p3 = Point(2, 2)\n",
    "ls2 = LineString([p1, p2, p3])\n",
    "type(ls2)"
   ]
  },
  {
   "cell_type": "code",
   "execution_count": 123,
   "id": "rational-argentina",
   "metadata": {},
   "outputs": [
    {
     "data": {
      "image/svg+xml": [
       "<svg xmlns=\"http://www.w3.org/2000/svg\" xmlns:xlink=\"http://www.w3.org/1999/xlink\" width=\"100.0\" height=\"100.0\" viewBox=\"-0.08 -0.08 2.16 2.16\" preserveAspectRatio=\"xMinYMin meet\"><g transform=\"matrix(1,0,0,-1,0,2.0)\"><polyline fill=\"none\" stroke=\"#66cc99\" stroke-width=\"0.0432\" points=\"0.0,0.0 0.0,1.0 2.0,2.0\" opacity=\"0.8\" /></g></svg>"
      ],
      "text/plain": [
       "<shapely.geometry.linestring.LineString at 0x7f142c939090>"
      ]
     },
     "execution_count": 123,
     "metadata": {},
     "output_type": "execute_result"
    }
   ],
   "source": [
    "ls2"
   ]
  },
  {
   "cell_type": "code",
   "execution_count": 124,
   "id": "illegal-secret",
   "metadata": {},
   "outputs": [
    {
     "data": {
      "text/plain": [
       "True"
      ]
     },
     "execution_count": 124,
     "metadata": {},
     "output_type": "execute_result"
    }
   ],
   "source": [
    "ls == ls2"
   ]
  },
  {
   "cell_type": "code",
   "execution_count": 125,
   "id": "passing-penny",
   "metadata": {},
   "outputs": [
    {
     "data": {
      "image/svg+xml": [
       "<svg xmlns=\"http://www.w3.org/2000/svg\" xmlns:xlink=\"http://www.w3.org/1999/xlink\" width=\"100.0\" height=\"100.0\" viewBox=\"-0.08 -0.08 2.16 2.16\" preserveAspectRatio=\"xMinYMin meet\"><g transform=\"matrix(1,0,0,-1,0,2.0)\"><polyline fill=\"none\" stroke=\"#66cc99\" stroke-width=\"0.0432\" points=\"0.0,0.0 2.0,2.0 0.0,1.0\" opacity=\"0.8\" /></g></svg>"
      ],
      "text/plain": [
       "<shapely.geometry.linestring.LineString at 0x7f142c939650>"
      ]
     },
     "execution_count": 125,
     "metadata": {},
     "output_type": "execute_result"
    }
   ],
   "source": [
    "# The sequence of points is importance\n",
    "ls3 = LineString([p1, p3, p2])\n",
    "ls3"
   ]
  },
  {
   "cell_type": "code",
   "execution_count": 126,
   "id": "relevant-bunch",
   "metadata": {},
   "outputs": [
    {
     "data": {
      "text/plain": [
       "False"
      ]
     },
     "execution_count": 126,
     "metadata": {},
     "output_type": "execute_result"
    }
   ],
   "source": [
    "ls2 == ls3"
   ]
  },
  {
   "cell_type": "code",
   "execution_count": 127,
   "id": "ancient-necklace",
   "metadata": {},
   "outputs": [
    {
     "data": {
      "image/svg+xml": [
       "<svg xmlns=\"http://www.w3.org/2000/svg\" xmlns:xlink=\"http://www.w3.org/1999/xlink\" width=\"100.0\" height=\"100.0\" viewBox=\"-2.2399703510989677 -2.2399703510989677 6.4791994796721255 6.4791994796721255\" preserveAspectRatio=\"xMinYMin meet\"><g transform=\"matrix(1,0,0,-1,0,1.9992587774741906)\"><path fill-rule=\"evenodd\" fill=\"#66cc99\" stroke=\"#555555\" stroke-width=\"0.1295839895934425\" opacity=\"0.6\" d=\"M -2.0,1.0 L -1.9898781501590619,1.200960064489316 L -1.95961505248045,1.3998860413818457 L -1.909517025494589,1.5947644318100211 L -1.8400911539079572,1.7836227059686838 L -1.7520401559678305,1.9645492687655828 L -1.6462552706537035,2.13571280869985 L -1.5238072366901667,2.295380834122027 L -1.385935454690318,2.441937209254391 L -1.2340354421288608,2.5738985124746216 L -1.0696447081237799,2.6899290512867085 L -0.8944271909999159,2.7888543819998315 L 1.1055728090000843,3.7888543819998315 L 1.285218111386198,3.867909754701679 L 1.471747154099186,3.928976135362408 L 1.6633635604905788,3.9714654213539786 L 1.858221959818644,3.994968417625285 L 2.0544457591774163,3.9992587774741906 L 2.2501452161122306,3.9842951823900004 L 2.443435637872599,3.9502217399733093 L 2.6324555320336778,3.897366596101027 L 2.815384533685909,3.8262387747022055 L 2.9904609365442187,3.737523275579337 L 3.1559986591425844,3.6320744774858005 L 3.3104034827202584,3.5109079099914124 L 3.4521884044199265,3.3751904733775273 L 3.5799879579380978,3.2262292007494353 L 3.6925713637120507,3.065458670593059 L 3.7888543819998315,2.8944271909999157 L 3.8679097547016776,2.7147818886138055 L 3.928976135362407,2.5282528459008176 L 3.9714654213539777,2.336636439509425 L 3.9949684176252847,2.1417780401813595 L 3.9992587774741906,1.9455542408225877 L 3.9842951823900012,1.749854783887773 L 3.9502217399733097,1.556564362127404 L 3.897366596101028,1.3675444679663258 L 3.8262387747022073,1.1846154663140946 L 3.737523275579339,1.0095390634557844 L 3.6320744774858023,0.8440013408574185 L 3.5109079099914147,0.6895965172797442 L 3.3751904733775304,0.5478115955800764 L 3.2262292007494384,0.42001204206190423 L 3.0654586705930615,0.3074286362879508 L 2.8944271909999157,0.2111456180001683 L 1.98318379089673,-0.24447608205142465 L 1.9615705608064604,-0.39018064403225916 L 1.913880671464417,-0.5805693545089271 L 1.8477590650225726,-0.7653668647301816 L 1.7638425286967092,-0.9427934736519971 L 1.6629392246050896,-1.111140466039206 L 1.5460209067254729,-1.268786568327292 L 1.4142135623730943,-1.414213562373096 L 1.26878656832729,-1.5460209067254747 L 1.1111404660392037,-1.662939224605091 L 0.9427934736519947,-1.7638425286967103 L 0.7653668647301792,-1.8477590650225737 L 0.5805693545089247,-1.9138806714644179 L 0.39018064403225666,-1.9615705608064609 L 0.19603428065912154,-1.9903694533443936 L 5.66553889764798e-16,-2.0 L -0.1960342806591204,-1.9903694533443939 L -0.39018064403225555,-1.961570560806461 L -0.5805693545089236,-1.913880671464418 L -0.7653668647301781,-1.8477590650225741 L -0.9427934736519937,-1.7638425286967108 L -1.1111404660392024,-1.6629392246050918 L -1.26878656832729,-1.5460209067254747 L -1.4142135623730936,-1.4142135623730965 L -1.5460209067254722,-1.268786568327293 L -1.6629392246050887,-1.1111404660392072 L -1.763842528696709,-0.9427934736519973 L -1.8477590650225724,-0.7653668647301822 L -1.9138806714644168,-0.5805693545089281 L -1.96157056080646,-0.39018064403226066 L -1.9903694533443934,-0.19603428065912432 L -2.0,0.0 L -2.0,1.0 z\" /></g></svg>"
      ],
      "text/plain": [
       "<shapely.geometry.polygon.Polygon at 0x7f142c939790>"
      ]
     },
     "execution_count": 127,
     "metadata": {},
     "output_type": "execute_result"
    }
   ],
   "source": [
    "ls.buffer(2)"
   ]
  },
  {
   "cell_type": "markdown",
   "id": "injured-husband",
   "metadata": {},
   "source": [
    "### Polygon"
   ]
  },
  {
   "cell_type": "code",
   "execution_count": 128,
   "id": "colored-scholarship",
   "metadata": {},
   "outputs": [
    {
     "data": {
      "text/plain": [
       "shapely.geometry.polygon.Polygon"
      ]
     },
     "execution_count": 128,
     "metadata": {},
     "output_type": "execute_result"
    }
   ],
   "source": [
    "pl1 = Polygon([[0, 0], [1, 0], [1, 1], [0, 1], [0, 0]])\n",
    "type(pl1)"
   ]
  },
  {
   "cell_type": "code",
   "execution_count": 129,
   "id": "connected-plane",
   "metadata": {},
   "outputs": [
    {
     "data": {
      "image/svg+xml": [
       "<svg xmlns=\"http://www.w3.org/2000/svg\" xmlns:xlink=\"http://www.w3.org/1999/xlink\" width=\"100.0\" height=\"100.0\" viewBox=\"-0.04 -0.04 1.08 1.08\" preserveAspectRatio=\"xMinYMin meet\"><g transform=\"matrix(1,0,0,-1,0,1.0)\"><path fill-rule=\"evenodd\" fill=\"#66cc99\" stroke=\"#555555\" stroke-width=\"0.0216\" opacity=\"0.6\" d=\"M 0.0,0.0 L 1.0,0.0 L 1.0,1.0 L 0.0,1.0 L 0.0,0.0 z\" /></g></svg>"
      ],
      "text/plain": [
       "<shapely.geometry.polygon.Polygon at 0x7f142c941e50>"
      ]
     },
     "execution_count": 129,
     "metadata": {},
     "output_type": "execute_result"
    }
   ],
   "source": [
    "pl1"
   ]
  },
  {
   "cell_type": "code",
   "execution_count": 130,
   "id": "saved-measurement",
   "metadata": {},
   "outputs": [],
   "source": [
    "# pl2 = Polygon([ls3.xy, [1,1]])"
   ]
  },
  {
   "cell_type": "code",
   "execution_count": 131,
   "id": "commercial-wayne",
   "metadata": {
    "tags": []
   },
   "outputs": [],
   "source": [
    "def download_file(url, save_file):\n",
    "    # Download and save a file from the url\n",
    "    with open(save_file, 'wb') as f:\n",
    "        r = requests.get(url)\n",
    "        f.write(r.content)  "
   ]
  },
  {
   "cell_type": "markdown",
   "id": "opponent-diamond",
   "metadata": {},
   "source": [
    "### Several operations"
   ]
  },
  {
   "cell_type": "code",
   "execution_count": 132,
   "id": "urban-explorer",
   "metadata": {},
   "outputs": [],
   "source": [
    "p1 = Point(1,1).buffer(2)\n",
    "p2 = Point(3,1).buffer(1)"
   ]
  },
  {
   "cell_type": "code",
   "execution_count": 133,
   "id": "supreme-crossing",
   "metadata": {},
   "outputs": [
    {
     "data": {
      "image/svg+xml": [
       "<svg xmlns=\"http://www.w3.org/2000/svg\" xmlns:xlink=\"http://www.w3.org/1999/xlink\" width=\"100.0\" height=\"100.0\" viewBox=\"-1.16 -1.16 4.32 4.32\" preserveAspectRatio=\"xMinYMin meet\"><g transform=\"matrix(1,0,0,-1,0,2.0)\"><path fill-rule=\"evenodd\" fill=\"#66cc99\" stroke=\"#555555\" stroke-width=\"0.0864\" opacity=\"0.6\" d=\"M 3.0,1.0 L 2.990369453344394,0.803965719340879 L 2.961570560806461,0.6098193559677438 L 2.913880671464418,0.4194306454910758 L 2.847759065022574,0.2346331352698212 L 2.7638425286967108,0.057206526348005604 L 2.662939224605091,-0.11114046603920347 L 2.5460209067254747,-0.26878656832728987 L 2.4142135623730963,-0.4142135623730938 L 2.2687865683272923,-0.5460209067254727 L 2.111140466039206,-0.6629392246050894 L 1.9427934736519972,-0.763842528696709 L 1.7653668647301817,-0.8477590650225726 L 1.5805693545089272,-0.913880671464417 L 1.3901806440322593,-0.9615705608064604 L 1.1960342806591242,-0.9903694533443934 L 1.0000000000000033,-1.0 L 0.8039657193408822,-0.9903694533443941 L 0.6098193559677471,-0.9615705608064615 L 0.419430645491079,-0.9138806714644188 L 0.23463313526982432,-0.847759065022575 L 0.0572065263480086,-0.7638425286967121 L -0.11114046603920102,-0.6629392246050927 L -0.2687865683272872,-0.5460209067254771 L -0.4142135623730918,-0.41421356237309825 L -0.5460209067254707,-0.2687865683272952 L -0.6629392246050876,-0.11114046603920857 L -0.7638425286967074,0.05720652634799961 L -0.8477590650225715,0.23463313526981533 L -0.9138806714644159,0.41943064549106934 L -0.9615705608064598,0.6098193559677376 L -0.9903694533443932,0.8039657193408721 L -1.0,0.9999999999999936 L -0.9903694533443943,1.196034280659115 L -0.9615705608064622,1.3901806440322497 L -0.9138806714644196,1.5805693545089183 L -0.8477590650225764,1.7653668647301726 L -0.7638425286967134,1.942793473651989 L -0.6629392246050949,2.111140466039198 L -0.5460209067254786,2.268786568327285 L -0.4142135623731009,2.414213562373089 L -0.2687865683272972,2.546020906725469 L -0.11114046603921168,2.6629392246050854 L 0.05720652634799639,2.7638425286967054 L 0.23463313526981278,2.8477590650225704 L 0.4194306454910667,2.9138806714644154 L 0.609819355967734,2.961570560806459 L 0.8039657193408685,2.9903694533443925 L 0.9999999999999908,3.0 L 1.1960342806591113,2.9903694533443947 L 1.3901806440322462,2.9615705608064626 L 1.5805693545089157,2.9138806714644208 L 1.7653668647301701,2.8477590650225775 L 1.9427934736519856,2.763842528696715 L 2.1111404660391946,2.662939224605097 L 2.268786568327283,2.5460209067254804 L 2.414213562373087,2.414213562373103 L 2.5460209067254667,2.2687865683273003 L 2.6629392246050836,2.111140466039215 L 2.7638425286967045,1.9427934736520052 L 2.8477590650225686,1.7653668647301908 L 2.913880671464414,1.580569354508937 L 2.961570560806458,1.3901806440322697 L 2.9903694533443925,1.1960342806591333 L 3.0,1.0 z\" /></g></svg>"
      ],
      "text/plain": [
       "<shapely.geometry.polygon.Polygon at 0x7f142c941ed0>"
      ]
     },
     "execution_count": 133,
     "metadata": {},
     "output_type": "execute_result"
    }
   ],
   "source": [
    "p1"
   ]
  },
  {
   "cell_type": "code",
   "execution_count": 134,
   "id": "transparent-constitution",
   "metadata": {},
   "outputs": [
    {
     "data": {
      "image/svg+xml": [
       "<svg xmlns=\"http://www.w3.org/2000/svg\" xmlns:xlink=\"http://www.w3.org/1999/xlink\" width=\"100.0\" height=\"100.0\" viewBox=\"1.92 -0.08 2.16 2.16\" preserveAspectRatio=\"xMinYMin meet\"><g transform=\"matrix(1,0,0,-1,0,2.0)\"><path fill-rule=\"evenodd\" fill=\"#66cc99\" stroke=\"#555555\" stroke-width=\"0.0432\" opacity=\"0.6\" d=\"M 4.0,1.0 L 3.995184726672197,0.9019828596704395 L 3.9807852804032304,0.8049096779838719 L 3.956940335732209,0.709715322745538 L 3.923879532511287,0.6173165676349106 L 3.8819212643483554,0.5286032631740027 L 3.831469612302546,0.44442976698039827 L 3.7730104533627373,0.36560671583635507 L 3.707106781186548,0.2928932188134531 L 3.634393284163646,0.22698954663726367 L 3.555570233019603,0.16853038769745532 L 3.471396736825999,0.1180787356516455 L 3.382683432365091,0.0761204674887137 L 3.290284677254464,0.04305966426779151 L 3.1950903220161297,0.01921471959676979 L 3.098017140329562,0.004815273327803293 L 3.0000000000000018,0.0 L 2.901982859670441,0.00481527332780296 L 2.8049096779838734,0.019214719596769236 L 2.7097153227455397,0.04305966426779062 L 2.617316567634912,0.07612046748871248 L 2.5286032631740043,0.11807873565164395 L 2.4444297669803996,0.16853038769745365 L 2.3656067158363565,0.22698954663726145 L 2.292893218813454,0.2928932188134509 L 2.226989546637265,0.3656067158363524 L 2.168530387697456,0.4444297669803957 L 2.1180787356516464,0.5286032631739999 L 2.0761204674887144,0.6173165676349077 L 2.0430596642677923,0.7097153227455346 L 2.01921471959677,0.8049096779838688 L 2.0048152733278033,0.9019828596704361 L 2.0,0.9999999999999968 L 2.004815273327803,1.0980171403295576 L 2.0192147195967687,1.1950903220161249 L 2.04305966426779,1.2902846772544592 L 2.0761204674887117,1.3826834323650863 L 2.1180787356516433,1.4713967368259944 L 2.1685303876974524,1.555570233019599 L 2.2269895466372605,1.6343932841636426 L 2.2928932188134494,1.7071067811865446 L 2.3656067158363516,1.7730104533627344 L 2.4444297669803943,1.8314696123025427 L 2.528603263173998,1.8819212643483527 L 2.6173165676349064,1.9238795325112852 L 2.7097153227455335,1.9569403357322077 L 2.804909677983867,1.9807852804032295 L 2.9019828596704342,1.9951847266721963 L 2.9999999999999956,2.0 L 3.0980171403295556,1.9951847266721974 L 3.195090322016123,1.9807852804032313 L 3.2902846772544576,1.9569403357322104 L 3.382683432365085,1.9238795325112887 L 3.471396736825993,1.8819212643483576 L 3.5555702330195973,1.8314696123025485 L 3.6343932841636413,1.7730104533627402 L 3.7071067811865435,1.7071067811865515 L 3.7730104533627333,1.6343932841636502 L 3.831469612302542,1.5555702330196075 L 3.8819212643483523,1.4713967368260026 L 3.9238795325112843,1.3826834323650954 L 3.956940335732207,1.2902846772544685 L 3.980785280403229,1.1950903220161349 L 3.9951847266721963,1.0980171403295667 L 4.0,1.0 z\" /></g></svg>"
      ],
      "text/plain": [
       "<shapely.geometry.polygon.Polygon at 0x7f142c941a10>"
      ]
     },
     "execution_count": 134,
     "metadata": {},
     "output_type": "execute_result"
    }
   ],
   "source": [
    "p2"
   ]
  },
  {
   "cell_type": "code",
   "execution_count": 135,
   "id": "dated-found",
   "metadata": {},
   "outputs": [
    {
     "data": {
      "image/svg+xml": [
       "<svg xmlns=\"http://www.w3.org/2000/svg\" xmlns:xlink=\"http://www.w3.org/1999/xlink\" width=\"100.0\" height=\"100.0\" viewBox=\"-1.2 -1.2 5.4 4.4\" preserveAspectRatio=\"xMinYMin meet\"><g transform=\"matrix(1,0,0,-1,0,2.0)\"><path fill-rule=\"evenodd\" fill=\"#66cc99\" stroke=\"#555555\" stroke-width=\"0.10800000000000001\" opacity=\"0.6\" d=\"M 2.662939224605091,-0.11114046603920347 L 2.5460209067254747,-0.26878656832728987 L 2.4142135623730963,-0.4142135623730938 L 2.2687865683272923,-0.5460209067254727 L 2.111140466039206,-0.6629392246050894 L 1.9427934736519972,-0.763842528696709 L 1.7653668647301817,-0.8477590650225726 L 1.5805693545089272,-0.913880671464417 L 1.3901806440322593,-0.9615705608064604 L 1.1960342806591242,-0.9903694533443934 L 1.0000000000000033,-1.0 L 0.8039657193408822,-0.9903694533443941 L 0.6098193559677471,-0.9615705608064615 L 0.419430645491079,-0.9138806714644188 L 0.23463313526982432,-0.847759065022575 L 0.0572065263480086,-0.7638425286967121 L -0.11114046603920102,-0.6629392246050927 L -0.2687865683272872,-0.5460209067254771 L -0.4142135623730918,-0.41421356237309825 L -0.5460209067254707,-0.2687865683272952 L -0.6629392246050876,-0.11114046603920857 L -0.7638425286967074,0.05720652634799961 L -0.8477590650225715,0.23463313526981533 L -0.9138806714644159,0.41943064549106934 L -0.9615705608064598,0.6098193559677376 L -0.9903694533443932,0.8039657193408721 L -1.0,0.9999999999999936 L -0.9903694533443943,1.196034280659115 L -0.9615705608064622,1.3901806440322497 L -0.9138806714644196,1.5805693545089183 L -0.8477590650225764,1.7653668647301726 L -0.7638425286967134,1.942793473651989 L -0.6629392246050949,2.111140466039198 L -0.5460209067254786,2.268786568327285 L -0.4142135623731009,2.414213562373089 L -0.2687865683272972,2.546020906725469 L -0.11114046603921168,2.6629392246050854 L 0.05720652634799639,2.7638425286967054 L 0.23463313526981278,2.8477590650225704 L 0.4194306454910667,2.9138806714644154 L 0.609819355967734,2.961570560806459 L 0.8039657193408685,2.9903694533443925 L 0.9999999999999908,3.0 L 1.1960342806591113,2.9903694533443947 L 1.3901806440322462,2.9615705608064626 L 1.5805693545089157,2.9138806714644208 L 1.7653668647301701,2.8477590650225775 L 1.9427934736519856,2.763842528696715 L 2.1111404660391946,2.662939224605097 L 2.268786568327283,2.5460209067254804 L 2.414213562373087,2.414213562373103 L 2.5460209067254667,2.2687865683273003 L 2.6629392246050836,2.111140466039215 L 2.7494044542258442,1.9668819456293438 L 2.804909677983867,1.9807852804032295 L 2.9019828596704342,1.9951847266721963 L 2.9999999999999956,2.0 L 3.0980171403295556,1.9951847266721974 L 3.195090322016123,1.9807852804032313 L 3.2902846772544576,1.9569403357322104 L 3.382683432365085,1.9238795325112887 L 3.471396736825993,1.8819212643483576 L 3.5555702330195973,1.8314696123025485 L 3.6343932841636413,1.7730104533627402 L 3.7071067811865435,1.7071067811865515 L 3.7730104533627333,1.6343932841636502 L 3.831469612302542,1.5555702330196075 L 3.8819212643483523,1.4713967368260026 L 3.9238795325112843,1.3826834323650954 L 3.956940335732207,1.2902846772544685 L 3.980785280403229,1.1950903220161349 L 3.9951847266721963,1.0980171403295667 L 4.0,1.0 L 3.995184726672197,0.9019828596704395 L 3.9807852804032304,0.8049096779838719 L 3.956940335732209,0.709715322745538 L 3.923879532511287,0.6173165676349106 L 3.8819212643483554,0.5286032631740027 L 3.831469612302546,0.44442976698039827 L 3.7730104533627373,0.36560671583635507 L 3.707106781186548,0.2928932188134531 L 3.634393284163646,0.22698954663726367 L 3.555570233019603,0.16853038769745532 L 3.471396736825999,0.1180787356516455 L 3.382683432365091,0.0761204674887137 L 3.290284677254464,0.04305966426779151 L 3.1950903220161297,0.01921471959676979 L 3.098017140329562,0.004815273327803293 L 3.0000000000000018,0.0 L 2.901982859670441,0.00481527332780296 L 2.8049096779838734,0.019214719596769236 L 2.7494044542258442,0.033118054370656166 L 2.662939224605091,-0.11114046603920347 z\" /></g></svg>"
      ],
      "text/plain": [
       "<shapely.geometry.polygon.Polygon at 0x7f142ce40c90>"
      ]
     },
     "execution_count": 135,
     "metadata": {},
     "output_type": "execute_result"
    }
   ],
   "source": [
    "p1.union(p2)"
   ]
  },
  {
   "cell_type": "code",
   "execution_count": 136,
   "id": "changed-calibration",
   "metadata": {},
   "outputs": [
    {
     "data": {
      "image/svg+xml": [
       "<svg xmlns=\"http://www.w3.org/2000/svg\" xmlns:xlink=\"http://www.w3.org/1999/xlink\" width=\"100.0\" height=\"100.0\" viewBox=\"-1.16 -1.16 4.069404454225844 4.32\" preserveAspectRatio=\"xMinYMin meet\"><g transform=\"matrix(1,0,0,-1,0,2.0)\"><path fill-rule=\"evenodd\" fill=\"#66cc99\" stroke=\"#555555\" stroke-width=\"0.0864\" opacity=\"0.6\" d=\"M 2.662939224605091,-0.11114046603920347 L 2.5460209067254747,-0.26878656832728987 L 2.4142135623730963,-0.4142135623730938 L 2.2687865683272923,-0.5460209067254727 L 2.111140466039206,-0.6629392246050894 L 1.9427934736519972,-0.763842528696709 L 1.7653668647301817,-0.8477590650225726 L 1.5805693545089272,-0.913880671464417 L 1.3901806440322593,-0.9615705608064604 L 1.1960342806591242,-0.9903694533443934 L 1.0000000000000033,-1.0 L 0.8039657193408822,-0.9903694533443941 L 0.6098193559677471,-0.9615705608064615 L 0.419430645491079,-0.9138806714644188 L 0.23463313526982432,-0.847759065022575 L 0.0572065263480086,-0.7638425286967121 L -0.11114046603920102,-0.6629392246050927 L -0.2687865683272872,-0.5460209067254771 L -0.4142135623730918,-0.41421356237309825 L -0.5460209067254707,-0.2687865683272952 L -0.6629392246050876,-0.11114046603920857 L -0.7638425286967074,0.05720652634799961 L -0.8477590650225715,0.23463313526981533 L -0.9138806714644159,0.41943064549106934 L -0.9615705608064598,0.6098193559677376 L -0.9903694533443932,0.8039657193408721 L -1.0,0.9999999999999936 L -0.9903694533443943,1.196034280659115 L -0.9615705608064622,1.3901806440322497 L -0.9138806714644196,1.5805693545089183 L -0.8477590650225764,1.7653668647301726 L -0.7638425286967134,1.942793473651989 L -0.6629392246050949,2.111140466039198 L -0.5460209067254786,2.268786568327285 L -0.4142135623731009,2.414213562373089 L -0.2687865683272972,2.546020906725469 L -0.11114046603921168,2.6629392246050854 L 0.05720652634799639,2.7638425286967054 L 0.23463313526981278,2.8477590650225704 L 0.4194306454910667,2.9138806714644154 L 0.609819355967734,2.961570560806459 L 0.8039657193408685,2.9903694533443925 L 0.9999999999999908,3.0 L 1.1960342806591113,2.9903694533443947 L 1.3901806440322462,2.9615705608064626 L 1.5805693545089157,2.9138806714644208 L 1.7653668647301701,2.8477590650225775 L 1.9427934736519856,2.763842528696715 L 2.1111404660391946,2.662939224605097 L 2.268786568327283,2.5460209067254804 L 2.414213562373087,2.414213562373103 L 2.5460209067254667,2.2687865683273003 L 2.6629392246050836,2.111140466039215 L 2.7494044542258442,1.9668819456293438 L 2.7097153227455335,1.9569403357322077 L 2.6173165676349064,1.9238795325112852 L 2.528603263173998,1.8819212643483527 L 2.4444297669803943,1.8314696123025427 L 2.3656067158363516,1.7730104533627344 L 2.2928932188134494,1.7071067811865446 L 2.2269895466372605,1.6343932841636426 L 2.1685303876974524,1.555570233019599 L 2.1180787356516433,1.4713967368259944 L 2.0761204674887117,1.3826834323650863 L 2.04305966426779,1.2902846772544592 L 2.0192147195967687,1.1950903220161249 L 2.004815273327803,1.0980171403295576 L 2.0,0.9999999999999968 L 2.0048152733278033,0.9019828596704361 L 2.01921471959677,0.8049096779838688 L 2.0430596642677923,0.7097153227455346 L 2.0761204674887144,0.6173165676349077 L 2.1180787356516464,0.5286032631739999 L 2.168530387697456,0.4444297669803957 L 2.226989546637265,0.3656067158363524 L 2.292893218813454,0.2928932188134509 L 2.3656067158363565,0.22698954663726145 L 2.4444297669803996,0.16853038769745365 L 2.5286032631740043,0.11807873565164395 L 2.617316567634912,0.07612046748871248 L 2.7097153227455397,0.04305966426779062 L 2.7494044542258442,0.033118054370656166 L 2.662939224605091,-0.11114046603920347 z\" /></g></svg>"
      ],
      "text/plain": [
       "<shapely.geometry.polygon.Polygon at 0x7f142ce40510>"
      ]
     },
     "execution_count": 136,
     "metadata": {},
     "output_type": "execute_result"
    }
   ],
   "source": [
    "p1.difference(p2)"
   ]
  },
  {
   "cell_type": "code",
   "execution_count": 137,
   "id": "billion-denial",
   "metadata": {},
   "outputs": [
    {
     "data": {
      "image/svg+xml": [
       "<svg xmlns=\"http://www.w3.org/2000/svg\" xmlns:xlink=\"http://www.w3.org/1999/xlink\" width=\"100.0\" height=\"100.0\" viewBox=\"1.9226494443496525 -0.04423250127969135 1.154701111300695 2.0884650025593823\" preserveAspectRatio=\"xMinYMin meet\"><g transform=\"matrix(1,0,0,-1,0,1.9999999999999998)\"><path fill-rule=\"evenodd\" fill=\"#66cc99\" stroke=\"#555555\" stroke-width=\"0.04176930005118765\" opacity=\"0.6\" d=\"M 2.7097153227455397,0.04305966426779062 L 2.617316567634912,0.07612046748871248 L 2.5286032631740043,0.11807873565164395 L 2.4444297669803996,0.16853038769745365 L 2.3656067158363565,0.22698954663726145 L 2.292893218813454,0.2928932188134509 L 2.226989546637265,0.3656067158363524 L 2.168530387697456,0.4444297669803957 L 2.1180787356516464,0.5286032631739999 L 2.0761204674887144,0.6173165676349077 L 2.0430596642677923,0.7097153227455346 L 2.01921471959677,0.8049096779838688 L 2.0048152733278033,0.9019828596704361 L 2.0,0.9999999999999968 L 2.004815273327803,1.0980171403295576 L 2.0192147195967687,1.1950903220161249 L 2.04305966426779,1.2902846772544592 L 2.0761204674887117,1.3826834323650863 L 2.1180787356516433,1.4713967368259944 L 2.1685303876974524,1.555570233019599 L 2.2269895466372605,1.6343932841636426 L 2.2928932188134494,1.7071067811865446 L 2.3656067158363516,1.7730104533627344 L 2.4444297669803943,1.8314696123025427 L 2.528603263173998,1.8819212643483527 L 2.6173165676349064,1.9238795325112852 L 2.7097153227455335,1.9569403357322077 L 2.7494044542258442,1.9668819456293438 L 2.7638425286967045,1.9427934736520052 L 2.8477590650225686,1.7653668647301908 L 2.913880671464414,1.580569354508937 L 2.961570560806458,1.3901806440322697 L 2.9903694533443925,1.1960342806591333 L 3.0,1.0 L 2.990369453344394,0.803965719340879 L 2.961570560806461,0.6098193559677438 L 2.913880671464418,0.4194306454910758 L 2.847759065022574,0.2346331352698212 L 2.7638425286967108,0.057206526348005604 L 2.7494044542258442,0.033118054370656166 L 2.7097153227455397,0.04305966426779062 z\" /></g></svg>"
      ],
      "text/plain": [
       "<shapely.geometry.polygon.Polygon at 0x7f142ce40f90>"
      ]
     },
     "execution_count": 137,
     "metadata": {},
     "output_type": "execute_result"
    }
   ],
   "source": [
    "p1.intersection(p2)"
   ]
  },
  {
   "cell_type": "markdown",
   "id": "weird-radar",
   "metadata": {},
   "source": [
    "## Spatial relationships\n",
    "\n",
    "Source: https://github.com/geopandas/scipy2018-geospatial-data\n",
    "\n",
    "An important aspect of geospatial data is that we can look at *spatial relationships*: how two spatial objects relate to each other (whether they overlap, intersect, contain, .. one another).\n",
    "\n",
    "The topological, set-theoretic relationships in GIS are typically based on the DE-9IM model. See https://en.wikipedia.org/wiki/Spatial_relation for more information.\n",
    "\n",
    "![](img/TopologicSpatialRelations2.png)\n",
    "(Image by [Krauss, CC BY-SA 3.0](https://en.wikipedia.org/wiki/Spatial_relation#/media/File:TopologicSpatialRelarions2.png))"
   ]
  },
  {
   "cell_type": "code",
   "execution_count": 142,
   "id": "infinite-dubai",
   "metadata": {},
   "outputs": [],
   "source": [
    "point_arr = [[0, -1], [0, 1], [2, 2]]\n",
    "ls = LineString(point_arr)"
   ]
  },
  {
   "cell_type": "code",
   "execution_count": 143,
   "id": "advance-lesson",
   "metadata": {},
   "outputs": [],
   "source": [
    "def plot_line(ax, ob, zorder=1, linewidth=3, alpha=1):\n",
    "    x, y = ob.xy\n",
    "    ax.plot(x, y, linewidth=linewidth, solid_capstyle='round', zorder=zorder, alpha=alpha)    "
   ]
  },
  {
   "cell_type": "code",
   "execution_count": 144,
   "id": "healthy-placement",
   "metadata": {},
   "outputs": [
    {
     "data": {
      "image/png": "[encoded data removed]",
      "text/plain": [
       "<Figure size 432x288 with 1 Axes>"
      ]
     },
     "metadata": {
      "needs_background": "light"
     },
     "output_type": "display_data"
    }
   ],
   "source": [
    "fig, axs = plt.subplots()\n",
    "for p in [p1, p2]:\n",
    "    xs, ys = p.exterior.xy\n",
    "    axs.fill(xs, ys, alpha=0.5)\n",
    "plot_line(axs, ls, alpha=0.8)\n",
    "plt.show()"
   ]
  },
  {
   "cell_type": "code",
   "execution_count": 145,
   "id": "linear-kennedy",
   "metadata": {},
   "outputs": [
    {
     "data": {
      "text/plain": [
       "False"
      ]
     },
     "execution_count": 145,
     "metadata": {},
     "output_type": "execute_result"
    }
   ],
   "source": [
    "p1.within(p2)"
   ]
  },
  {
   "cell_type": "code",
   "execution_count": 146,
   "id": "suspected-employee",
   "metadata": {},
   "outputs": [
    {
     "data": {
      "text/plain": [
       "False"
      ]
     },
     "execution_count": 146,
     "metadata": {},
     "output_type": "execute_result"
    }
   ],
   "source": [
    "p1.touches(p2)"
   ]
  },
  {
   "cell_type": "code",
   "execution_count": 147,
   "id": "loved-mortgage",
   "metadata": {},
   "outputs": [
    {
     "data": {
      "text/plain": [
       "True"
      ]
     },
     "execution_count": 147,
     "metadata": {},
     "output_type": "execute_result"
    }
   ],
   "source": [
    "p1.overlaps(p2)"
   ]
  },
  {
   "cell_type": "code",
   "execution_count": 148,
   "id": "protecting-genetics",
   "metadata": {},
   "outputs": [
    {
     "data": {
      "text/plain": [
       "True"
      ]
     },
     "execution_count": 148,
     "metadata": {},
     "output_type": "execute_result"
    }
   ],
   "source": [
    "ls.crosses(p1)"
   ]
  },
  {
   "cell_type": "code",
   "execution_count": 149,
   "id": "sought-receipt",
   "metadata": {},
   "outputs": [
    {
     "data": {
      "text/plain": [
       "False"
      ]
     },
     "execution_count": 149,
     "metadata": {},
     "output_type": "execute_result"
    }
   ],
   "source": [
    "ls.crosses(p2)"
   ]
  },
  {
   "cell_type": "code",
   "execution_count": null,
   "id": "eleven-windows",
   "metadata": {},
   "outputs": [],
   "source": []
  }
 ],
 "metadata": {
  "kernelspec": {
   "display_name": "Python 3",
   "language": "python",
   "name": "python3"
  },
  "language_info": {
   "codemirror_mode": {
    "name": "ipython",
    "version": 3
   },
   "file_extension": ".py",
   "mimetype": "text/x-python",
   "name": "python",
   "nbconvert_exporter": "python",
   "pygments_lexer": "ipython3",
   "version": "3.7.10"
  }
 },
 "nbformat": 4,
 "nbformat_minor": 5
}
